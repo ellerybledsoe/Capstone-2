{
 "cells": [
  {
   "cell_type": "markdown",
   "metadata": {
    "colab_type": "text",
    "id": "view-in-github"
   },
   "source": [
    "<a href=\"https://colab.research.google.com/github/ellerybledsoe/Springboard/blob/main/Austin_Restaurant_Inspections_Modeling.ipynb\" target=\"_parent\"><img src=\"https://colab.research.google.com/assets/colab-badge.svg\" alt=\"Open In Colab\"/></a>"
   ]
  },
  {
   "cell_type": "code",
   "execution_count": 4,
   "metadata": {
    "id": "qOkYqgm2acyQ"
   },
   "outputs": [],
   "source": [
    "import pandas as pd\n",
    "import numpy as np\n",
    "import json\n",
    "\n",
    "import matplotlib.pyplot as plt\n",
    "import seaborn as sns\n",
    "\n",
    "import tensorflow as tf\n",
    "from tensorflow.keras.models import Model\n",
    "from sklearn.model_selection import train_test_split\n",
    "from sklearn.preprocessing import MinMaxScaler, StandardScaler\n",
    "\n",
    "#from google.colab import files"
   ]
  },
  {
   "cell_type": "code",
   "execution_count": 2,
   "metadata": {
    "colab": {
     "base_uri": "https://localhost:8080/"
    },
    "id": "qG1_8v0e2Ac5",
    "outputId": "7ad10446-e44c-46aa-ce40-093f27e2f298"
   },
   "outputs": [
    {
     "name": "stdout",
     "output_type": "stream",
     "text": [
      "austin_restaurant_inspections_full_dataset_03.csv\n",
      "austin_restaurant_inspections_X_test.csv\n",
      "austin_restaurant_inspections_X_test_scaled.csv\n",
      "austin_restaurant_inspections_X_train.csv\n",
      "austin_restaurant_inspections_X_train_scaled.csv\n",
      "austin_restaurant_inspections_y_test.csv\n",
      "austin_restaurant_inspections_y_test_scaled.csv\n",
      "austin_restaurant_inspections_y_train.csv\n",
      "austin_restaurant_inspections_y_train_scaled.csv\n",
      "\u001b[0m\u001b[01;34msample_data\u001b[0m/\n"
     ]
    }
   ],
   "source": [
    "%ls"
   ]
  },
  {
   "cell_type": "markdown",
   "metadata": {
    "id": "6_CeSiTlHjmh"
   },
   "source": [
    "## Reading in the data"
   ]
  },
  {
   "cell_type": "code",
   "execution_count": 8,
   "metadata": {
    "id": "IgGCSSM9bc2P"
   },
   "outputs": [],
   "source": [
    "# colab\n",
    "#full = pd.read_csv(\"/content/austin_restaurant_inspections_full_dataset_03.csv\")\n",
    "#X_train_scaled = pd.read_csv('/content/austin_restaurant_inspections_X_train_scaled.csv')\n",
    "#X_test_scaled = pd.read_csv('/content/austin_restaurant_inspections_X_test_scaled.csv')\n",
    "#y_train = pd.read_csv('/content/austin_restaurant_inspections_y_train_scaled.csv')\n",
    "#y_test = pd.read_csv('/content/austin_restaurant_inspections_y_test_scaled.csv')\n",
    "\n",
    "# local\n",
    "full = pd.read_csv(\"/Users/ellerybledsoe/Documents/GitHub/Springboard/austin_restaurant_inspections_full_dataset_03.csv\")\n",
    "X_train_scaled = pd.read_csv('/Users/ellerybledsoe/Documents/GitHub/Springboard/austin_restaurant_inspections_X_train_scaled.csv')\n",
    "X_test_scaled = pd.read_csv('/Users/ellerybledsoe/Documents/GitHub/Springboard/austin_restaurant_inspections_X_test_scaled.csv')\n",
    "y_train = pd.read_csv('/Users/ellerybledsoe/Documents/GitHub/Springboard/austin_restaurant_inspections_y_train_scaled.csv')\n",
    "y_test = pd.read_csv('/Users/ellerybledsoe/Documents/GitHub/Springboard/austin_restaurant_inspections_y_test_scaled.csv')\n",
    "\n"
   ]
  },
  {
   "cell_type": "code",
   "execution_count": 9,
   "metadata": {
    "colab": {
     "base_uri": "https://localhost:8080/",
     "height": 241
    },
    "id": "sQmk8xte1hLK",
    "outputId": "390e3c56-d3c1-452f-f965-6da901f874a8"
   },
   "outputs": [
    {
     "data": {
      "text/html": [
       "<div>\n",
       "<style scoped>\n",
       "    .dataframe tbody tr th:only-of-type {\n",
       "        vertical-align: middle;\n",
       "    }\n",
       "\n",
       "    .dataframe tbody tr th {\n",
       "        vertical-align: top;\n",
       "    }\n",
       "\n",
       "    .dataframe thead th {\n",
       "        text-align: right;\n",
       "    }\n",
       "</style>\n",
       "<table border=\"1\" class=\"dataframe\">\n",
       "  <thead>\n",
       "    <tr style=\"text-align: right;\">\n",
       "      <th></th>\n",
       "      <th>Unnamed: 0</th>\n",
       "      <th>review_length</th>\n",
       "      <th>review_word_count</th>\n",
       "      <th>oldest_score</th>\n",
       "      <th>newest_score</th>\n",
       "      <th>reviews_count</th>\n",
       "      <th>stars</th>\n",
       "      <th>useful_sum</th>\n",
       "      <th>stars_5.0_sum</th>\n",
       "      <th>cool_sum</th>\n",
       "      <th>...</th>\n",
       "      <th>Mexican</th>\n",
       "      <th>Nightlife</th>\n",
       "      <th>NoiseLevel_0</th>\n",
       "      <th>DogsAllowed</th>\n",
       "      <th>Breakfast &amp; Brunch</th>\n",
       "      <th>RestaurantsPriceRange_0.0</th>\n",
       "      <th>RestaurantsPriceRange_1.0</th>\n",
       "      <th>RestaurantsPriceRange_2.0</th>\n",
       "      <th>RestaurantsPriceRange_3.0</th>\n",
       "      <th>Score_LG</th>\n",
       "    </tr>\n",
       "  </thead>\n",
       "  <tbody>\n",
       "    <tr>\n",
       "      <th>0</th>\n",
       "      <td>4153</td>\n",
       "      <td>0.042165</td>\n",
       "      <td>0.043746</td>\n",
       "      <td>0.800000</td>\n",
       "      <td>0.277778</td>\n",
       "      <td>0.010256</td>\n",
       "      <td>0.375</td>\n",
       "      <td>0.004975</td>\n",
       "      <td>0.000000</td>\n",
       "      <td>0.000000</td>\n",
       "      <td>...</td>\n",
       "      <td>0.0</td>\n",
       "      <td>0.0</td>\n",
       "      <td>0</td>\n",
       "      <td>0.0</td>\n",
       "      <td>1.0</td>\n",
       "      <td>0</td>\n",
       "      <td>0</td>\n",
       "      <td>1</td>\n",
       "      <td>0</td>\n",
       "      <td>0.933333</td>\n",
       "    </tr>\n",
       "    <tr>\n",
       "      <th>1</th>\n",
       "      <td>2528</td>\n",
       "      <td>0.188831</td>\n",
       "      <td>0.180803</td>\n",
       "      <td>0.533333</td>\n",
       "      <td>0.611111</td>\n",
       "      <td>0.087179</td>\n",
       "      <td>0.750</td>\n",
       "      <td>0.039801</td>\n",
       "      <td>0.046053</td>\n",
       "      <td>0.037838</td>\n",
       "      <td>...</td>\n",
       "      <td>0.0</td>\n",
       "      <td>0.0</td>\n",
       "      <td>0</td>\n",
       "      <td>1.0</td>\n",
       "      <td>1.0</td>\n",
       "      <td>0</td>\n",
       "      <td>0</td>\n",
       "      <td>1</td>\n",
       "      <td>0</td>\n",
       "      <td>0.644444</td>\n",
       "    </tr>\n",
       "    <tr>\n",
       "      <th>2</th>\n",
       "      <td>5064</td>\n",
       "      <td>0.000000</td>\n",
       "      <td>0.000000</td>\n",
       "      <td>0.866667</td>\n",
       "      <td>0.805556</td>\n",
       "      <td>0.000000</td>\n",
       "      <td>0.500</td>\n",
       "      <td>0.000000</td>\n",
       "      <td>0.000000</td>\n",
       "      <td>0.000000</td>\n",
       "      <td>...</td>\n",
       "      <td>0.0</td>\n",
       "      <td>1.0</td>\n",
       "      <td>0</td>\n",
       "      <td>1.0</td>\n",
       "      <td>0.0</td>\n",
       "      <td>0</td>\n",
       "      <td>0</td>\n",
       "      <td>1</td>\n",
       "      <td>0</td>\n",
       "      <td>0.844444</td>\n",
       "    </tr>\n",
       "    <tr>\n",
       "      <th>3</th>\n",
       "      <td>4135</td>\n",
       "      <td>0.018644</td>\n",
       "      <td>0.016990</td>\n",
       "      <td>1.000000</td>\n",
       "      <td>0.722222</td>\n",
       "      <td>0.005128</td>\n",
       "      <td>0.750</td>\n",
       "      <td>0.000000</td>\n",
       "      <td>0.006579</td>\n",
       "      <td>0.000000</td>\n",
       "      <td>...</td>\n",
       "      <td>0.0</td>\n",
       "      <td>0.0</td>\n",
       "      <td>0</td>\n",
       "      <td>0.0</td>\n",
       "      <td>0.0</td>\n",
       "      <td>1</td>\n",
       "      <td>0</td>\n",
       "      <td>0</td>\n",
       "      <td>0</td>\n",
       "      <td>1.000000</td>\n",
       "    </tr>\n",
       "    <tr>\n",
       "      <th>4</th>\n",
       "      <td>723</td>\n",
       "      <td>0.279299</td>\n",
       "      <td>0.275184</td>\n",
       "      <td>0.822222</td>\n",
       "      <td>0.750000</td>\n",
       "      <td>0.179487</td>\n",
       "      <td>0.750</td>\n",
       "      <td>0.054726</td>\n",
       "      <td>0.118421</td>\n",
       "      <td>0.027027</td>\n",
       "      <td>...</td>\n",
       "      <td>0.0</td>\n",
       "      <td>0.0</td>\n",
       "      <td>0</td>\n",
       "      <td>0.0</td>\n",
       "      <td>0.0</td>\n",
       "      <td>0</td>\n",
       "      <td>0</td>\n",
       "      <td>1</td>\n",
       "      <td>0</td>\n",
       "      <td>0.822222</td>\n",
       "    </tr>\n",
       "  </tbody>\n",
       "</table>\n",
       "<p>5 rows × 57 columns</p>\n",
       "</div>"
      ],
      "text/plain": [
       "   Unnamed: 0  review_length  review_word_count  oldest_score  newest_score  \\\n",
       "0        4153       0.042165           0.043746      0.800000      0.277778   \n",
       "1        2528       0.188831           0.180803      0.533333      0.611111   \n",
       "2        5064       0.000000           0.000000      0.866667      0.805556   \n",
       "3        4135       0.018644           0.016990      1.000000      0.722222   \n",
       "4         723       0.279299           0.275184      0.822222      0.750000   \n",
       "\n",
       "   reviews_count  stars  useful_sum  stars_5.0_sum  cool_sum  ...  Mexican  \\\n",
       "0       0.010256  0.375    0.004975       0.000000  0.000000  ...      0.0   \n",
       "1       0.087179  0.750    0.039801       0.046053  0.037838  ...      0.0   \n",
       "2       0.000000  0.500    0.000000       0.000000  0.000000  ...      0.0   \n",
       "3       0.005128  0.750    0.000000       0.006579  0.000000  ...      0.0   \n",
       "4       0.179487  0.750    0.054726       0.118421  0.027027  ...      0.0   \n",
       "\n",
       "   Nightlife  NoiseLevel_0  DogsAllowed  Breakfast & Brunch  \\\n",
       "0        0.0             0          0.0                 1.0   \n",
       "1        0.0             0          1.0                 1.0   \n",
       "2        1.0             0          1.0                 0.0   \n",
       "3        0.0             0          0.0                 0.0   \n",
       "4        0.0             0          0.0                 0.0   \n",
       "\n",
       "   RestaurantsPriceRange_0.0  RestaurantsPriceRange_1.0  \\\n",
       "0                          0                          0   \n",
       "1                          0                          0   \n",
       "2                          0                          0   \n",
       "3                          1                          0   \n",
       "4                          0                          0   \n",
       "\n",
       "   RestaurantsPriceRange_2.0  RestaurantsPriceRange_3.0  Score_LG  \n",
       "0                          1                          0  0.933333  \n",
       "1                          1                          0  0.644444  \n",
       "2                          1                          0  0.844444  \n",
       "3                          0                          0  1.000000  \n",
       "4                          1                          0  0.822222  \n",
       "\n",
       "[5 rows x 57 columns]"
      ]
     },
     "execution_count": 9,
     "metadata": {},
     "output_type": "execute_result"
    }
   ],
   "source": [
    "X_train_scaled.head()"
   ]
  },
  {
   "cell_type": "code",
   "execution_count": 10,
   "metadata": {
    "colab": {
     "base_uri": "https://localhost:8080/"
    },
    "id": "HIhoU5ZBZmQL",
    "outputId": "24f73e14-0a2f-4586-80c3-bd2131007dfd"
   },
   "outputs": [
    {
     "data": {
      "text/plain": [
       "0    0.991414\n",
       "1    0.008586\n",
       "Name: pass_fail_flag, dtype: float64"
      ]
     },
     "execution_count": 10,
     "metadata": {},
     "output_type": "execute_result"
    }
   ],
   "source": [
    "y_train.pass_fail_flag.value_counts(normalize=True)"
   ]
  },
  {
   "cell_type": "code",
   "execution_count": 11,
   "metadata": {
    "colab": {
     "base_uri": "https://localhost:8080/"
    },
    "id": "JDbUqHuTZv4R",
    "outputId": "73624c16-25b9-4143-cb26-fb7d4624958d"
   },
   "outputs": [
    {
     "data": {
      "text/plain": [
       "A    0.582074\n",
       "B    0.315762\n",
       "C    0.093922\n",
       "F    0.008242\n",
       "Name: letter_grade, dtype: float64"
      ]
     },
     "execution_count": 11,
     "metadata": {},
     "output_type": "execute_result"
    }
   ],
   "source": [
    "full.letter_grade.value_counts(normalize=True)"
   ]
  },
  {
   "cell_type": "code",
   "execution_count": 12,
   "metadata": {
    "id": "fi6SPQ3DxgXN"
   },
   "outputs": [],
   "source": [
    "y_train.drop(columns=['Unnamed: 0'], inplace = True)\n",
    "X_train_scaled.drop(columns=['Unnamed: 0','Score_LG','oldest_score','newest_score','is_open','RestaurantsPriceRange_0.0','Food'], inplace = True)\n",
    "y_test.drop(columns=['Unnamed: 0'], inplace = True)\n",
    "X_test_scaled.drop(columns=['Unnamed: 0','Score_LG','oldest_score','newest_score','is_open','RestaurantsPriceRange_0.0','Food'], inplace = True)"
   ]
  },
  {
   "cell_type": "code",
   "execution_count": 13,
   "metadata": {
    "colab": {
     "base_uri": "https://localhost:8080/"
    },
    "id": "-PmfGslGadKI",
    "outputId": "a95fabe2-7dc3-40f6-c20a-9eedf70741b5"
   },
   "outputs": [
    {
     "name": "stdout",
     "output_type": "stream",
     "text": [
      "(4659, 50)\n",
      "(4659, 1)\n",
      "(1165, 1)\n",
      "(4659, 51)\n",
      "(1165, 51)\n"
     ]
    }
   ],
   "source": [
    "print(X_train_scaled.shape)\n",
    "print(y_train.shape)\n",
    "print(y_test.shape)\n",
    "\n",
    "train_scaled = pd.concat([y_train,X_train_scaled], axis=1)\n",
    "test_scaled = pd.concat([y_test,X_test_scaled], axis=1)\n",
    "\n",
    "print(train_scaled.shape)\n",
    "print(test_scaled.shape)"
   ]
  },
  {
   "cell_type": "code",
   "execution_count": 14,
   "metadata": {
    "colab": {
     "base_uri": "https://localhost:8080/"
    },
    "id": "LWvDGEdQeCD-",
    "outputId": "f5437245-f86a-416f-9c47-94f05e6aef44"
   },
   "outputs": [
    {
     "name": "stdout",
     "output_type": "stream",
     "text": [
      "Index(['pass_fail_flag', 'review_length', 'review_word_count', 'reviews_count',\n",
      "       'stars', 'useful_sum', 'stars_5.0_sum', 'cool_sum',\n",
      "       'RestaurantsPriceRange2', 'funny_sum', 'Restaurants',\n",
      "       'BusinessAcceptsCreditCards', 'Smoking_0', 'RestaurantsTakeOut',\n",
      "       'stars_4.0_sum', 'RestaurantsGoodForGroups', 'GoodForKids',\n",
      "       'BikeParking', 'lot', 'HasTV', 'RestaurantsDelivery', 'casual',\n",
      "       'NoiseLevel_u'average'', 'stars_1.0_sum', 'OutdoorSeating', 'lunch',\n",
      "       'Caters', 'stars_3.0_sum', 'RestaurantsAttire_'casual'',\n",
      "       'RestaurantsAttire_u'casual'', 'dinner', 'WiFi_u'free'',\n",
      "       'WheelchairAccessible', 'stars_2.0_sum', 'HappyHour', 'classy',\n",
      "       'Alcohol_u'none'', 'RestaurantsTableService', 'street',\n",
      "       'RestaurantsReservations', 'Bars', 'WiFi_u'no'', 'Alcohol_u'full_bar'',\n",
      "       'Mexican', 'Nightlife', 'NoiseLevel_0', 'DogsAllowed',\n",
      "       'Breakfast & Brunch', 'RestaurantsPriceRange_1.0',\n",
      "       'RestaurantsPriceRange_2.0', 'RestaurantsPriceRange_3.0'],\n",
      "      dtype='object')\n"
     ]
    }
   ],
   "source": [
    "print(train_scaled.columns)"
   ]
  },
  {
   "cell_type": "code",
   "execution_count": 15,
   "metadata": {
    "colab": {
     "base_uri": "https://localhost:8080/"
    },
    "id": "1ux-px9cv-Gf",
    "outputId": "b5a9dea6-ed84-48da-a675-92e3774d85da"
   },
   "outputs": [
    {
     "data": {
      "text/plain": [
       "0    0.991414\n",
       "1    0.008586\n",
       "Name: pass_fail_flag, dtype: float64"
      ]
     },
     "execution_count": 15,
     "metadata": {},
     "output_type": "execute_result"
    }
   ],
   "source": [
    "train_scaled.pass_fail_flag.value_counts(normalize=True)"
   ]
  },
  {
   "cell_type": "code",
   "execution_count": 16,
   "metadata": {
    "colab": {
     "base_uri": "https://localhost:8080/",
     "height": 117
    },
    "id": "aENAgV8yzF7h",
    "outputId": "9259929c-ab3b-412a-b933-51eaa0a426e4"
   },
   "outputs": [
    {
     "data": {
      "text/html": [
       "<div>\n",
       "<style scoped>\n",
       "    .dataframe tbody tr th:only-of-type {\n",
       "        vertical-align: middle;\n",
       "    }\n",
       "\n",
       "    .dataframe tbody tr th {\n",
       "        vertical-align: top;\n",
       "    }\n",
       "\n",
       "    .dataframe thead th {\n",
       "        text-align: right;\n",
       "    }\n",
       "</style>\n",
       "<table border=\"1\" class=\"dataframe\">\n",
       "  <thead>\n",
       "    <tr style=\"text-align: right;\">\n",
       "      <th></th>\n",
       "      <th>pass_fail_flag</th>\n",
       "      <th>review_length</th>\n",
       "      <th>review_word_count</th>\n",
       "      <th>reviews_count</th>\n",
       "      <th>stars</th>\n",
       "      <th>useful_sum</th>\n",
       "      <th>stars_5.0_sum</th>\n",
       "      <th>cool_sum</th>\n",
       "      <th>RestaurantsPriceRange2</th>\n",
       "      <th>funny_sum</th>\n",
       "      <th>...</th>\n",
       "      <th>WiFi_u'no'</th>\n",
       "      <th>Alcohol_u'full_bar'</th>\n",
       "      <th>Mexican</th>\n",
       "      <th>Nightlife</th>\n",
       "      <th>NoiseLevel_0</th>\n",
       "      <th>DogsAllowed</th>\n",
       "      <th>Breakfast &amp; Brunch</th>\n",
       "      <th>RestaurantsPriceRange_1.0</th>\n",
       "      <th>RestaurantsPriceRange_2.0</th>\n",
       "      <th>RestaurantsPriceRange_3.0</th>\n",
       "    </tr>\n",
       "  </thead>\n",
       "  <tbody>\n",
       "    <tr>\n",
       "      <th>0</th>\n",
       "      <td>0</td>\n",
       "      <td>0.042165</td>\n",
       "      <td>0.043746</td>\n",
       "      <td>0.010256</td>\n",
       "      <td>0.375</td>\n",
       "      <td>0.004975</td>\n",
       "      <td>0.0</td>\n",
       "      <td>0.0</td>\n",
       "      <td>0.5</td>\n",
       "      <td>0.0</td>\n",
       "      <td>...</td>\n",
       "      <td>0</td>\n",
       "      <td>0</td>\n",
       "      <td>0.0</td>\n",
       "      <td>0.0</td>\n",
       "      <td>0</td>\n",
       "      <td>0.0</td>\n",
       "      <td>1.0</td>\n",
       "      <td>0</td>\n",
       "      <td>1</td>\n",
       "      <td>0</td>\n",
       "    </tr>\n",
       "  </tbody>\n",
       "</table>\n",
       "<p>1 rows × 51 columns</p>\n",
       "</div>"
      ],
      "text/plain": [
       "   pass_fail_flag  review_length  review_word_count  reviews_count  stars  \\\n",
       "0               0       0.042165           0.043746       0.010256  0.375   \n",
       "\n",
       "   useful_sum  stars_5.0_sum  cool_sum  RestaurantsPriceRange2  funny_sum  \\\n",
       "0    0.004975            0.0       0.0                     0.5        0.0   \n",
       "\n",
       "   ...  WiFi_u'no'  Alcohol_u'full_bar'  Mexican  Nightlife  NoiseLevel_0  \\\n",
       "0  ...           0                    0      0.0        0.0             0   \n",
       "\n",
       "   DogsAllowed  Breakfast & Brunch  RestaurantsPriceRange_1.0  \\\n",
       "0          0.0                 1.0                          0   \n",
       "\n",
       "   RestaurantsPriceRange_2.0  RestaurantsPriceRange_3.0  \n",
       "0                          1                          0  \n",
       "\n",
       "[1 rows x 51 columns]"
      ]
     },
     "execution_count": 16,
     "metadata": {},
     "output_type": "execute_result"
    }
   ],
   "source": [
    "train_scaled.head(1)"
   ]
  },
  {
   "cell_type": "code",
   "execution_count": 17,
   "metadata": {
    "id": "c03j7rSTyAoR"
   },
   "outputs": [],
   "source": [
    "pass_train_data = train_scaled[train_scaled.pass_fail_flag == 0].iloc[:,1:]\n",
    "fail_train_data = train_scaled[train_scaled.pass_fail_flag == 1].iloc[:,1:]"
   ]
  },
  {
   "cell_type": "code",
   "execution_count": 18,
   "metadata": {
    "colab": {
     "base_uri": "https://localhost:8080/",
     "height": 241
    },
    "id": "DWB9QyOby9dW",
    "outputId": "b8b1f296-53c5-4401-938e-c79a2646ec9d"
   },
   "outputs": [
    {
     "data": {
      "text/html": [
       "<div>\n",
       "<style scoped>\n",
       "    .dataframe tbody tr th:only-of-type {\n",
       "        vertical-align: middle;\n",
       "    }\n",
       "\n",
       "    .dataframe tbody tr th {\n",
       "        vertical-align: top;\n",
       "    }\n",
       "\n",
       "    .dataframe thead th {\n",
       "        text-align: right;\n",
       "    }\n",
       "</style>\n",
       "<table border=\"1\" class=\"dataframe\">\n",
       "  <thead>\n",
       "    <tr style=\"text-align: right;\">\n",
       "      <th></th>\n",
       "      <th>review_length</th>\n",
       "      <th>review_word_count</th>\n",
       "      <th>reviews_count</th>\n",
       "      <th>stars</th>\n",
       "      <th>useful_sum</th>\n",
       "      <th>stars_5.0_sum</th>\n",
       "      <th>cool_sum</th>\n",
       "      <th>RestaurantsPriceRange2</th>\n",
       "      <th>funny_sum</th>\n",
       "      <th>Restaurants</th>\n",
       "      <th>...</th>\n",
       "      <th>WiFi_u'no'</th>\n",
       "      <th>Alcohol_u'full_bar'</th>\n",
       "      <th>Mexican</th>\n",
       "      <th>Nightlife</th>\n",
       "      <th>NoiseLevel_0</th>\n",
       "      <th>DogsAllowed</th>\n",
       "      <th>Breakfast &amp; Brunch</th>\n",
       "      <th>RestaurantsPriceRange_1.0</th>\n",
       "      <th>RestaurantsPriceRange_2.0</th>\n",
       "      <th>RestaurantsPriceRange_3.0</th>\n",
       "    </tr>\n",
       "  </thead>\n",
       "  <tbody>\n",
       "    <tr>\n",
       "      <th>9</th>\n",
       "      <td>0.039815</td>\n",
       "      <td>0.039331</td>\n",
       "      <td>0.046154</td>\n",
       "      <td>0.625</td>\n",
       "      <td>0.024876</td>\n",
       "      <td>0.019737</td>\n",
       "      <td>0.0</td>\n",
       "      <td>0.50</td>\n",
       "      <td>0.000</td>\n",
       "      <td>1.0</td>\n",
       "      <td>...</td>\n",
       "      <td>0</td>\n",
       "      <td>0</td>\n",
       "      <td>0.0</td>\n",
       "      <td>0.0</td>\n",
       "      <td>0</td>\n",
       "      <td>0.0</td>\n",
       "      <td>0.0</td>\n",
       "      <td>0</td>\n",
       "      <td>1</td>\n",
       "      <td>0</td>\n",
       "    </tr>\n",
       "    <tr>\n",
       "      <th>164</th>\n",
       "      <td>0.018076</td>\n",
       "      <td>0.017993</td>\n",
       "      <td>0.015385</td>\n",
       "      <td>0.625</td>\n",
       "      <td>0.014925</td>\n",
       "      <td>0.006579</td>\n",
       "      <td>0.0</td>\n",
       "      <td>0.25</td>\n",
       "      <td>0.008</td>\n",
       "      <td>1.0</td>\n",
       "      <td>...</td>\n",
       "      <td>0</td>\n",
       "      <td>1</td>\n",
       "      <td>1.0</td>\n",
       "      <td>1.0</td>\n",
       "      <td>0</td>\n",
       "      <td>0.0</td>\n",
       "      <td>0.0</td>\n",
       "      <td>1</td>\n",
       "      <td>0</td>\n",
       "      <td>0</td>\n",
       "    </tr>\n",
       "    <tr>\n",
       "      <th>296</th>\n",
       "      <td>0.010560</td>\n",
       "      <td>0.010702</td>\n",
       "      <td>0.010256</td>\n",
       "      <td>0.250</td>\n",
       "      <td>0.004975</td>\n",
       "      <td>0.000000</td>\n",
       "      <td>0.0</td>\n",
       "      <td>0.25</td>\n",
       "      <td>0.016</td>\n",
       "      <td>1.0</td>\n",
       "      <td>...</td>\n",
       "      <td>0</td>\n",
       "      <td>0</td>\n",
       "      <td>0.0</td>\n",
       "      <td>0.0</td>\n",
       "      <td>0</td>\n",
       "      <td>0.0</td>\n",
       "      <td>0.0</td>\n",
       "      <td>1</td>\n",
       "      <td>0</td>\n",
       "      <td>0</td>\n",
       "    </tr>\n",
       "    <tr>\n",
       "      <th>408</th>\n",
       "      <td>0.000000</td>\n",
       "      <td>0.000000</td>\n",
       "      <td>0.000000</td>\n",
       "      <td>0.500</td>\n",
       "      <td>0.000000</td>\n",
       "      <td>0.000000</td>\n",
       "      <td>0.0</td>\n",
       "      <td>0.50</td>\n",
       "      <td>0.000</td>\n",
       "      <td>1.0</td>\n",
       "      <td>...</td>\n",
       "      <td>1</td>\n",
       "      <td>0</td>\n",
       "      <td>0.0</td>\n",
       "      <td>0.0</td>\n",
       "      <td>0</td>\n",
       "      <td>0.0</td>\n",
       "      <td>0.0</td>\n",
       "      <td>0</td>\n",
       "      <td>1</td>\n",
       "      <td>0</td>\n",
       "    </tr>\n",
       "    <tr>\n",
       "      <th>482</th>\n",
       "      <td>0.000000</td>\n",
       "      <td>0.000000</td>\n",
       "      <td>0.000000</td>\n",
       "      <td>0.625</td>\n",
       "      <td>0.000000</td>\n",
       "      <td>0.000000</td>\n",
       "      <td>0.0</td>\n",
       "      <td>0.50</td>\n",
       "      <td>0.000</td>\n",
       "      <td>1.0</td>\n",
       "      <td>...</td>\n",
       "      <td>0</td>\n",
       "      <td>0</td>\n",
       "      <td>0.0</td>\n",
       "      <td>1.0</td>\n",
       "      <td>0</td>\n",
       "      <td>0.0</td>\n",
       "      <td>0.0</td>\n",
       "      <td>0</td>\n",
       "      <td>1</td>\n",
       "      <td>0</td>\n",
       "    </tr>\n",
       "  </tbody>\n",
       "</table>\n",
       "<p>5 rows × 50 columns</p>\n",
       "</div>"
      ],
      "text/plain": [
       "     review_length  review_word_count  reviews_count  stars  useful_sum  \\\n",
       "9         0.039815           0.039331       0.046154  0.625    0.024876   \n",
       "164       0.018076           0.017993       0.015385  0.625    0.014925   \n",
       "296       0.010560           0.010702       0.010256  0.250    0.004975   \n",
       "408       0.000000           0.000000       0.000000  0.500    0.000000   \n",
       "482       0.000000           0.000000       0.000000  0.625    0.000000   \n",
       "\n",
       "     stars_5.0_sum  cool_sum  RestaurantsPriceRange2  funny_sum  Restaurants  \\\n",
       "9         0.019737       0.0                    0.50      0.000          1.0   \n",
       "164       0.006579       0.0                    0.25      0.008          1.0   \n",
       "296       0.000000       0.0                    0.25      0.016          1.0   \n",
       "408       0.000000       0.0                    0.50      0.000          1.0   \n",
       "482       0.000000       0.0                    0.50      0.000          1.0   \n",
       "\n",
       "     ...  WiFi_u'no'  Alcohol_u'full_bar'  Mexican  Nightlife  NoiseLevel_0  \\\n",
       "9    ...           0                    0      0.0        0.0             0   \n",
       "164  ...           0                    1      1.0        1.0             0   \n",
       "296  ...           0                    0      0.0        0.0             0   \n",
       "408  ...           1                    0      0.0        0.0             0   \n",
       "482  ...           0                    0      0.0        1.0             0   \n",
       "\n",
       "     DogsAllowed  Breakfast & Brunch  RestaurantsPriceRange_1.0  \\\n",
       "9            0.0                 0.0                          0   \n",
       "164          0.0                 0.0                          1   \n",
       "296          0.0                 0.0                          1   \n",
       "408          0.0                 0.0                          0   \n",
       "482          0.0                 0.0                          0   \n",
       "\n",
       "     RestaurantsPriceRange_2.0  RestaurantsPriceRange_3.0  \n",
       "9                            1                          0  \n",
       "164                          0                          0  \n",
       "296                          0                          0  \n",
       "408                          1                          0  \n",
       "482                          1                          0  \n",
       "\n",
       "[5 rows x 50 columns]"
      ]
     },
     "execution_count": 18,
     "metadata": {},
     "output_type": "execute_result"
    }
   ],
   "source": [
    "fail_train_data.head()"
   ]
  },
  {
   "cell_type": "code",
   "execution_count": 19,
   "metadata": {
    "id": "XD6l5cAFzAtI"
   },
   "outputs": [],
   "source": [
    "pass_test_data = test_scaled[test_scaled.pass_fail_flag == 0].iloc[:,1:].reset_index(drop=True)\n",
    "fail_test_data = test_scaled[test_scaled.pass_fail_flag == 1].iloc[:,1:].reset_index(drop=True)"
   ]
  },
  {
   "cell_type": "code",
   "execution_count": 20,
   "metadata": {
    "colab": {
     "base_uri": "https://localhost:8080/"
    },
    "id": "yxXlSCGkPqbs",
    "outputId": "d79d8a89-24c2-498e-e5e9-ac8c97bc2327"
   },
   "outputs": [
    {
     "data": {
      "text/plain": [
       "(4619, 50)"
      ]
     },
     "execution_count": 20,
     "metadata": {},
     "output_type": "execute_result"
    }
   ],
   "source": [
    "pass_train_data.shape"
   ]
  },
  {
   "cell_type": "markdown",
   "metadata": {
    "id": "PqCA0-xKu758"
   },
   "source": [
    "## Building an AutoEncoder"
   ]
  },
  {
   "cell_type": "code",
   "execution_count": 21,
   "metadata": {
    "id": "lWkq6bTHzT1E"
   },
   "outputs": [
    {
     "name": "stderr",
     "output_type": "stream",
     "text": [
      "2021-10-14 01:42:06.348851: I tensorflow/core/platform/cpu_feature_guard.cc:142] This TensorFlow binary is optimized with oneAPI Deep Neural Network Library (oneDNN) to use the following CPU instructions in performance-critical operations:  AVX2 FMA\n",
      "To enable them in other operations, rebuild TensorFlow with the appropriate compiler flags.\n"
     ]
    }
   ],
   "source": [
    "model = tf.keras.Sequential()\n",
    "model.add(tf.keras.layers.Dense(25, activation='relu'))\n",
    "model.add(tf.keras.layers.Dense(12, activation='relu'))\n",
    "model.add(tf.keras.layers.Dense(6, activation='relu'))\n",
    "model.add(tf.keras.layers.Dense(12, activation='relu'))\n",
    "model.add(tf.keras.layers.Dense(25, activation='relu'))\n",
    "model.add(tf.keras.layers.Dense(50, activation='sigmoid'))\n",
    "\n",
    "#https://www.youtube.com/watch?v=S31E-ftRfQI&list=PLbxRL2wtmn7rENj4iA3FC5VE4LNvIweqs&index=2"
   ]
  },
  {
   "cell_type": "code",
   "execution_count": 22,
   "metadata": {
    "id": "cECctgzCNGwq"
   },
   "outputs": [],
   "source": [
    "class AutoEncoder(Model):\n",
    "  def __init__(self):\n",
    "    super(AutoEncoder, self).__init__()\n",
    "    self.encoder = tf.keras.Sequential([\n",
    "      tf.keras.layers.Dense(25,activation='relu'),\n",
    "      tf.keras.layers.Dense(12,activation='relu'),\n",
    "      tf.keras.layers.Dense(6,activation='relu')])\n",
    "    \n",
    "    self.decoder = tf.keras.Sequential([\n",
    "      tf.keras.layers.Dense(12,activation='relu'),\n",
    "      tf.keras.layers.Dense(25,activation='relu'),\n",
    "      tf.keras.layers.Dense(50,activation='sigmoid')])\n",
    "    \n",
    "  def call(self, x):\n",
    "    encoded = self.encoder(x)\n",
    "    decoded = self.decoder(encoded)\n",
    "    return decoded\n",
    "\n",
    "# https://www.youtube.com/watch?v=S31E-ftRfQI&list=PLbxRL2wtmn7rENj4iA3FC5VE4LNvIweqs&index=2"
   ]
  },
  {
   "cell_type": "code",
   "execution_count": 23,
   "metadata": {
    "id": "j08VPASEWata"
   },
   "outputs": [],
   "source": [
    "model = AutoEncoder()\n",
    "early_stop = tf.keras.callbacks.EarlyStopping(monitor='val_loss', patience=2, mode='min')\n",
    "\n",
    "model.compile(optimizer='adam', loss='mean_squared_error')\n",
    "\n",
    "#https://www.datacamp.com/community/tutorials/autoencoder-keras-tutorial"
   ]
  },
  {
   "cell_type": "code",
   "execution_count": 24,
   "metadata": {
    "colab": {
     "base_uri": "https://localhost:8080/"
    },
    "id": "z8lmcJDWc1ko",
    "outputId": "021caffe-7f29-4cf2-c58c-abd3917884e4"
   },
   "outputs": [
    {
     "name": "stderr",
     "output_type": "stream",
     "text": [
      "2021-10-14 01:42:06.554194: I tensorflow/compiler/mlir/mlir_graph_optimization_pass.cc:185] None of the MLIR Optimization Passes are enabled (registered 2)\n"
     ]
    },
    {
     "name": "stdout",
     "output_type": "stream",
     "text": [
      "Epoch 1/20\n",
      "47/47 [==============================] - 1s 5ms/step - loss: 0.2080 - val_loss: 0.1648\n",
      "Epoch 2/20\n",
      "47/47 [==============================] - 0s 2ms/step - loss: 0.1440 - val_loss: 0.1298\n",
      "Epoch 3/20\n",
      "47/47 [==============================] - 0s 2ms/step - loss: 0.1215 - val_loss: 0.1147\n",
      "Epoch 4/20\n",
      "47/47 [==============================] - 0s 2ms/step - loss: 0.1114 - val_loss: 0.1081\n",
      "Epoch 5/20\n",
      "47/47 [==============================] - 0s 2ms/step - loss: 0.1058 - val_loss: 0.1029\n",
      "Epoch 6/20\n",
      "47/47 [==============================] - 0s 2ms/step - loss: 0.0999 - val_loss: 0.0955\n",
      "Epoch 7/20\n",
      "47/47 [==============================] - 0s 2ms/step - loss: 0.0925 - val_loss: 0.0898\n",
      "Epoch 8/20\n",
      "47/47 [==============================] - 0s 2ms/step - loss: 0.0886 - val_loss: 0.0871\n",
      "Epoch 9/20\n",
      "47/47 [==============================] - 0s 2ms/step - loss: 0.0864 - val_loss: 0.0854\n",
      "Epoch 10/20\n",
      "47/47 [==============================] - 0s 2ms/step - loss: 0.0848 - val_loss: 0.0841\n",
      "Epoch 11/20\n",
      "47/47 [==============================] - 0s 2ms/step - loss: 0.0837 - val_loss: 0.0830\n",
      "Epoch 12/20\n",
      "47/47 [==============================] - 0s 2ms/step - loss: 0.0827 - val_loss: 0.0821\n",
      "Epoch 13/20\n",
      "47/47 [==============================] - 0s 2ms/step - loss: 0.0818 - val_loss: 0.0811\n",
      "Epoch 14/20\n",
      "47/47 [==============================] - 0s 2ms/step - loss: 0.0808 - val_loss: 0.0803\n",
      "Epoch 15/20\n",
      "47/47 [==============================] - 0s 2ms/step - loss: 0.0801 - val_loss: 0.0798\n",
      "Epoch 16/20\n",
      "47/47 [==============================] - 0s 2ms/step - loss: 0.0794 - val_loss: 0.0789\n",
      "Epoch 17/20\n",
      "47/47 [==============================] - 0s 2ms/step - loss: 0.0785 - val_loss: 0.0780\n",
      "Epoch 18/20\n",
      "47/47 [==============================] - 0s 2ms/step - loss: 0.0777 - val_loss: 0.0772\n",
      "Epoch 19/20\n",
      "47/47 [==============================] - 0s 2ms/step - loss: 0.0769 - val_loss: 0.0764\n",
      "Epoch 20/20\n",
      "47/47 [==============================] - 0s 2ms/step - loss: 0.0760 - val_loss: 0.0756\n"
     ]
    }
   ],
   "source": [
    "ae = model.fit(pass_train_data, pass_train_data,\n",
    "               epochs = 20,\n",
    "               batch_size = 100,\n",
    "               validation_data = (train_scaled.iloc[:,1:], train_scaled.iloc[:,1:]),\n",
    "               shuffle = True,\n",
    "               callbacks = [early_stop])"
   ]
  },
  {
   "cell_type": "code",
   "execution_count": 25,
   "metadata": {
    "colab": {
     "base_uri": "https://localhost:8080/",
     "height": 241
    },
    "id": "_DUZicEWimdv",
    "outputId": "c0c0f955-b743-46a4-a141-2f0d6db5a73a"
   },
   "outputs": [
    {
     "data": {
      "text/html": [
       "<div>\n",
       "<style scoped>\n",
       "    .dataframe tbody tr th:only-of-type {\n",
       "        vertical-align: middle;\n",
       "    }\n",
       "\n",
       "    .dataframe tbody tr th {\n",
       "        vertical-align: top;\n",
       "    }\n",
       "\n",
       "    .dataframe thead th {\n",
       "        text-align: right;\n",
       "    }\n",
       "</style>\n",
       "<table border=\"1\" class=\"dataframe\">\n",
       "  <thead>\n",
       "    <tr style=\"text-align: right;\">\n",
       "      <th></th>\n",
       "      <th>review_length</th>\n",
       "      <th>review_word_count</th>\n",
       "      <th>reviews_count</th>\n",
       "      <th>stars</th>\n",
       "      <th>useful_sum</th>\n",
       "      <th>stars_5.0_sum</th>\n",
       "      <th>cool_sum</th>\n",
       "      <th>RestaurantsPriceRange2</th>\n",
       "      <th>funny_sum</th>\n",
       "      <th>Restaurants</th>\n",
       "      <th>...</th>\n",
       "      <th>WiFi_u'no'</th>\n",
       "      <th>Alcohol_u'full_bar'</th>\n",
       "      <th>Mexican</th>\n",
       "      <th>Nightlife</th>\n",
       "      <th>NoiseLevel_0</th>\n",
       "      <th>DogsAllowed</th>\n",
       "      <th>Breakfast &amp; Brunch</th>\n",
       "      <th>RestaurantsPriceRange_1.0</th>\n",
       "      <th>RestaurantsPriceRange_2.0</th>\n",
       "      <th>RestaurantsPriceRange_3.0</th>\n",
       "    </tr>\n",
       "  </thead>\n",
       "  <tbody>\n",
       "    <tr>\n",
       "      <th>0</th>\n",
       "      <td>0.021689</td>\n",
       "      <td>0.020042</td>\n",
       "      <td>0.008065</td>\n",
       "      <td>0.571429</td>\n",
       "      <td>0.000000</td>\n",
       "      <td>0.005348</td>\n",
       "      <td>0.000000</td>\n",
       "      <td>0.25</td>\n",
       "      <td>0.000000</td>\n",
       "      <td>1.0</td>\n",
       "      <td>...</td>\n",
       "      <td>0</td>\n",
       "      <td>0</td>\n",
       "      <td>0.0</td>\n",
       "      <td>1.0</td>\n",
       "      <td>0</td>\n",
       "      <td>0.0</td>\n",
       "      <td>1.0</td>\n",
       "      <td>1</td>\n",
       "      <td>0</td>\n",
       "      <td>0</td>\n",
       "    </tr>\n",
       "    <tr>\n",
       "      <th>1</th>\n",
       "      <td>0.030766</td>\n",
       "      <td>0.029896</td>\n",
       "      <td>0.008065</td>\n",
       "      <td>0.428571</td>\n",
       "      <td>0.000000</td>\n",
       "      <td>0.000000</td>\n",
       "      <td>0.000000</td>\n",
       "      <td>0.25</td>\n",
       "      <td>0.000000</td>\n",
       "      <td>1.0</td>\n",
       "      <td>...</td>\n",
       "      <td>0</td>\n",
       "      <td>0</td>\n",
       "      <td>0.0</td>\n",
       "      <td>0.0</td>\n",
       "      <td>1</td>\n",
       "      <td>0.0</td>\n",
       "      <td>0.0</td>\n",
       "      <td>1</td>\n",
       "      <td>0</td>\n",
       "      <td>0</td>\n",
       "    </tr>\n",
       "    <tr>\n",
       "      <th>2</th>\n",
       "      <td>0.044780</td>\n",
       "      <td>0.041587</td>\n",
       "      <td>0.020161</td>\n",
       "      <td>0.714286</td>\n",
       "      <td>0.033898</td>\n",
       "      <td>0.021390</td>\n",
       "      <td>0.029557</td>\n",
       "      <td>0.50</td>\n",
       "      <td>0.034247</td>\n",
       "      <td>1.0</td>\n",
       "      <td>...</td>\n",
       "      <td>0</td>\n",
       "      <td>1</td>\n",
       "      <td>0.0</td>\n",
       "      <td>0.0</td>\n",
       "      <td>0</td>\n",
       "      <td>1.0</td>\n",
       "      <td>0.0</td>\n",
       "      <td>0</td>\n",
       "      <td>1</td>\n",
       "      <td>0</td>\n",
       "    </tr>\n",
       "    <tr>\n",
       "      <th>3</th>\n",
       "      <td>0.008249</td>\n",
       "      <td>0.007516</td>\n",
       "      <td>0.004032</td>\n",
       "      <td>0.571429</td>\n",
       "      <td>0.000000</td>\n",
       "      <td>0.005348</td>\n",
       "      <td>0.000000</td>\n",
       "      <td>0.25</td>\n",
       "      <td>0.000000</td>\n",
       "      <td>1.0</td>\n",
       "      <td>...</td>\n",
       "      <td>0</td>\n",
       "      <td>0</td>\n",
       "      <td>1.0</td>\n",
       "      <td>0.0</td>\n",
       "      <td>0</td>\n",
       "      <td>0.0</td>\n",
       "      <td>0.0</td>\n",
       "      <td>1</td>\n",
       "      <td>0</td>\n",
       "      <td>0</td>\n",
       "    </tr>\n",
       "    <tr>\n",
       "      <th>4</th>\n",
       "      <td>0.000000</td>\n",
       "      <td>0.000000</td>\n",
       "      <td>0.000000</td>\n",
       "      <td>0.428571</td>\n",
       "      <td>0.000000</td>\n",
       "      <td>0.000000</td>\n",
       "      <td>0.000000</td>\n",
       "      <td>0.25</td>\n",
       "      <td>0.000000</td>\n",
       "      <td>1.0</td>\n",
       "      <td>...</td>\n",
       "      <td>0</td>\n",
       "      <td>0</td>\n",
       "      <td>0.0</td>\n",
       "      <td>0.0</td>\n",
       "      <td>0</td>\n",
       "      <td>0.0</td>\n",
       "      <td>0.0</td>\n",
       "      <td>1</td>\n",
       "      <td>0</td>\n",
       "      <td>0</td>\n",
       "    </tr>\n",
       "  </tbody>\n",
       "</table>\n",
       "<p>5 rows × 50 columns</p>\n",
       "</div>"
      ],
      "text/plain": [
       "   review_length  review_word_count  reviews_count     stars  useful_sum  \\\n",
       "0       0.021689           0.020042       0.008065  0.571429    0.000000   \n",
       "1       0.030766           0.029896       0.008065  0.428571    0.000000   \n",
       "2       0.044780           0.041587       0.020161  0.714286    0.033898   \n",
       "3       0.008249           0.007516       0.004032  0.571429    0.000000   \n",
       "4       0.000000           0.000000       0.000000  0.428571    0.000000   \n",
       "\n",
       "   stars_5.0_sum  cool_sum  RestaurantsPriceRange2  funny_sum  Restaurants  \\\n",
       "0       0.005348  0.000000                    0.25   0.000000          1.0   \n",
       "1       0.000000  0.000000                    0.25   0.000000          1.0   \n",
       "2       0.021390  0.029557                    0.50   0.034247          1.0   \n",
       "3       0.005348  0.000000                    0.25   0.000000          1.0   \n",
       "4       0.000000  0.000000                    0.25   0.000000          1.0   \n",
       "\n",
       "   ...  WiFi_u'no'  Alcohol_u'full_bar'  Mexican  Nightlife  NoiseLevel_0  \\\n",
       "0  ...           0                    0      0.0        1.0             0   \n",
       "1  ...           0                    0      0.0        0.0             1   \n",
       "2  ...           0                    1      0.0        0.0             0   \n",
       "3  ...           0                    0      1.0        0.0             0   \n",
       "4  ...           0                    0      0.0        0.0             0   \n",
       "\n",
       "   DogsAllowed  Breakfast & Brunch  RestaurantsPriceRange_1.0  \\\n",
       "0          0.0                 1.0                          1   \n",
       "1          0.0                 0.0                          1   \n",
       "2          1.0                 0.0                          0   \n",
       "3          0.0                 0.0                          1   \n",
       "4          0.0                 0.0                          1   \n",
       "\n",
       "   RestaurantsPriceRange_2.0  RestaurantsPriceRange_3.0  \n",
       "0                          0                          0  \n",
       "1                          0                          0  \n",
       "2                          1                          0  \n",
       "3                          0                          0  \n",
       "4                          0                          0  \n",
       "\n",
       "[5 rows x 50 columns]"
      ]
     },
     "execution_count": 25,
     "metadata": {},
     "output_type": "execute_result"
    }
   ],
   "source": [
    "pass_test_data.head()"
   ]
  },
  {
   "cell_type": "code",
   "execution_count": 26,
   "metadata": {
    "colab": {
     "base_uri": "https://localhost:8080/"
    },
    "id": "ThDeeSj6ka0V",
    "outputId": "e31d98da-aae3-4e61-cf3b-1d75393c8467"
   },
   "outputs": [
    {
     "data": {
      "text/plain": [
       "review_length                  float64\n",
       "review_word_count              float64\n",
       "reviews_count                  float64\n",
       "stars                          float64\n",
       "useful_sum                     float64\n",
       "stars_5.0_sum                  float64\n",
       "cool_sum                       float64\n",
       "RestaurantsPriceRange2         float64\n",
       "funny_sum                      float64\n",
       "Restaurants                    float64\n",
       "BusinessAcceptsCreditCards     float64\n",
       "Smoking_0                        int64\n",
       "RestaurantsTakeOut             float64\n",
       "stars_4.0_sum                  float64\n",
       "RestaurantsGoodForGroups       float64\n",
       "GoodForKids                    float64\n",
       "BikeParking                    float64\n",
       "lot                            float64\n",
       "HasTV                          float64\n",
       "RestaurantsDelivery            float64\n",
       "casual                         float64\n",
       "NoiseLevel_u'average'            int64\n",
       "stars_1.0_sum                  float64\n",
       "OutdoorSeating                 float64\n",
       "lunch                          float64\n",
       "Caters                         float64\n",
       "stars_3.0_sum                  float64\n",
       "RestaurantsAttire_'casual'       int64\n",
       "RestaurantsAttire_u'casual'      int64\n",
       "dinner                         float64\n",
       "WiFi_u'free'                     int64\n",
       "WheelchairAccessible           float64\n",
       "stars_2.0_sum                  float64\n",
       "HappyHour                      float64\n",
       "classy                         float64\n",
       "Alcohol_u'none'                  int64\n",
       "RestaurantsTableService        float64\n",
       "street                         float64\n",
       "RestaurantsReservations        float64\n",
       "Bars                           float64\n",
       "WiFi_u'no'                       int64\n",
       "Alcohol_u'full_bar'              int64\n",
       "Mexican                        float64\n",
       "Nightlife                      float64\n",
       "NoiseLevel_0                     int64\n",
       "DogsAllowed                    float64\n",
       "Breakfast & Brunch             float64\n",
       "RestaurantsPriceRange_1.0        int64\n",
       "RestaurantsPriceRange_2.0        int64\n",
       "RestaurantsPriceRange_3.0        int64\n",
       "dtype: object"
      ]
     },
     "execution_count": 26,
     "metadata": {},
     "output_type": "execute_result"
    }
   ],
   "source": [
    "pass_test_data.dtypes"
   ]
  },
  {
   "cell_type": "code",
   "execution_count": 27,
   "metadata": {
    "id": "TcCf_ZBnlDFp"
   },
   "outputs": [],
   "source": [
    "#pass_test_data[pass_test_data.isna().any(axis=1)]\n",
    "#pass_train_data.to_numpy()"
   ]
  },
  {
   "cell_type": "code",
   "execution_count": 28,
   "metadata": {
    "id": "IiJbZURVeOjR"
   },
   "outputs": [],
   "source": [
    "encoder_out = model.encoder(pass_train_data.to_numpy())\n",
    "decoder_out = model.decoder(encoder_out)"
   ]
  },
  {
   "cell_type": "code",
   "execution_count": 29,
   "metadata": {
    "colab": {
     "base_uri": "https://localhost:8080/"
    },
    "id": "oYlnesxRiW3V",
    "outputId": "15c4c4c7-df8a-4746-d07f-e63d53bf44f3"
   },
   "outputs": [
    {
     "name": "stdout",
     "output_type": "stream",
     "text": [
      "(4619, 6)\n",
      "(4619, 50)\n"
     ]
    }
   ],
   "source": [
    "print(encoder_out.shape)\n",
    "print(decoder_out.shape)"
   ]
  },
  {
   "cell_type": "code",
   "execution_count": 30,
   "metadata": {
    "colab": {
     "base_uri": "https://localhost:8080/",
     "height": 283
    },
    "id": "Z58bqPdcq9OK",
    "outputId": "89c1900f-0374-4181-a547-cd33ce02e6a2"
   },
   "outputs": [
    {
     "data": {
      "text/plain": [
       "[<matplotlib.lines.Line2D at 0x163b2be80>]"
      ]
     },
     "execution_count": 30,
     "metadata": {},
     "output_type": "execute_result"
    },
    {
     "data": {
      "image/png": "[encoded data removed]",
      "text/plain": [
       "<Figure size 432x288 with 1 Axes>"
      ]
     },
     "metadata": {
      "needs_background": "light"
     },
     "output_type": "display_data"
    }
   ],
   "source": [
    "plt.plot(pass_test_data.iloc[0],'b')\n",
    "plt.plot(decoder_out[0],'r')"
   ]
  },
  {
   "cell_type": "code",
   "execution_count": 31,
   "metadata": {
    "id": "dSN8nktDq_UO"
   },
   "outputs": [],
   "source": [
    "encoder_out = model.encoder(fail_train_data.to_numpy())\n",
    "decoder_out = model.decoder(encoder_out)"
   ]
  },
  {
   "cell_type": "code",
   "execution_count": 32,
   "metadata": {
    "colab": {
     "base_uri": "https://localhost:8080/",
     "height": 283
    },
    "id": "03-OFnePrqhL",
    "outputId": "71035808-827a-48c8-dd7d-d81f999895dc"
   },
   "outputs": [
    {
     "data": {
      "text/plain": [
       "[<matplotlib.lines.Line2D at 0x1644278b0>]"
      ]
     },
     "execution_count": 32,
     "metadata": {},
     "output_type": "execute_result"
    },
    {
     "data": {
      "image/png": "[encoded data removed]",
      "text/plain": [
       "<Figure size 432x288 with 1 Axes>"
      ]
     },
     "metadata": {
      "needs_background": "light"
     },
     "output_type": "display_data"
    }
   ],
   "source": [
    "plt.plot(pass_test_data.iloc[0],'b')\n",
    "plt.plot(decoder_out[0],'r')"
   ]
  },
  {
   "cell_type": "code",
   "execution_count": 33,
   "metadata": {
    "colab": {
     "base_uri": "https://localhost:8080/",
     "height": 452
    },
    "id": "ruuRC6rxrs5m",
    "outputId": "df6dcb97-ac4e-4252-ae29-c6c3913bb9af"
   },
   "outputs": [
    {
     "data": {
      "text/plain": [
       "(array([[0., 0., 0., ..., 0., 0., 0.],\n",
       "        [0., 0., 0., ..., 0., 0., 0.],\n",
       "        [0., 0., 0., ..., 0., 0., 0.],\n",
       "        ...,\n",
       "        [0., 0., 1., ..., 0., 0., 0.],\n",
       "        [0., 0., 0., ..., 0., 0., 0.],\n",
       "        [0., 0., 0., ..., 0., 0., 0.]]),\n",
       " array([0.01886454, 0.02556262, 0.03226069, 0.03895877, 0.04565685,\n",
       "        0.05235492, 0.059053  , 0.06575108, 0.07244915, 0.07914723,\n",
       "        0.08584531, 0.09254338, 0.09924146, 0.10593954, 0.11263761,\n",
       "        0.11933569, 0.12603377, 0.13273184, 0.13942992, 0.146128  ,\n",
       "        0.15282607, 0.15952415, 0.16622223, 0.1729203 , 0.17961838,\n",
       "        0.18631646, 0.19301453, 0.19971261, 0.20641069, 0.21310877,\n",
       "        0.21980684]),\n",
       " <a list of 1157 BarContainer objects>)"
      ]
     },
     "execution_count": 33,
     "metadata": {},
     "output_type": "execute_result"
    },
    {
     "data": {
      "image/png": "[encoded data removed]",
      "text/plain": [
       "<Figure size 432x288 with 1 Axes>"
      ]
     },
     "metadata": {
      "needs_background": "light"
     },
     "output_type": "display_data"
    }
   ],
   "source": [
    "reconstruct = model.predict(pass_test_data)\n",
    "train_loss = tf.keras.losses.mean_squared_error(reconstruct, pass_test_data)\n",
    "\n",
    "plt.hist(train_loss, bins=30)"
   ]
  },
  {
   "cell_type": "code",
   "execution_count": 34,
   "metadata": {
    "colab": {
     "base_uri": "https://localhost:8080/"
    },
    "id": "8olq2VFgsXW2",
    "outputId": "e45a66b0-da4d-42ed-9cb8-21297af14f7f"
   },
   "outputs": [
    {
     "name": "stdout",
     "output_type": "stream",
     "text": [
      "0.07566360973448168\n",
      "0.02997307125915366\n"
     ]
    }
   ],
   "source": [
    "print(np.mean(train_loss))\n",
    "print(np.std(train_loss))\n"
   ]
  },
  {
   "cell_type": "code",
   "execution_count": 35,
   "metadata": {
    "colab": {
     "base_uri": "https://localhost:8080/"
    },
    "id": "dASjWxgmsu8c",
    "outputId": "b5b8ad31-8672-44de-a1c4-13b3cb8456dc"
   },
   "outputs": [
    {
     "data": {
      "text/plain": [
       "0.13560975225278898"
      ]
     },
     "execution_count": 35,
     "metadata": {},
     "output_type": "execute_result"
    }
   ],
   "source": [
    "_2sigma_boundary = np.mean(train_loss) + 2*np.std(train_loss)\n",
    "_2sigma_boundary"
   ]
  },
  {
   "cell_type": "code",
   "execution_count": 36,
   "metadata": {
    "colab": {
     "base_uri": "https://localhost:8080/",
     "height": 435
    },
    "id": "Dl6EKsdPs_NK",
    "outputId": "b491b957-6ebb-4d3c-e11b-1b1dec7eff52"
   },
   "outputs": [
    {
     "data": {
      "text/plain": [
       "(array([[0., 1., 0., 0., 0., 0., 0., 0., 0., 0., 0., 0., 0., 0., 0., 0.,\n",
       "         0., 0., 0., 0., 0., 0., 0., 0., 0., 0., 0., 0., 0., 0.],\n",
       "        [0., 0., 0., 0., 0., 0., 0., 0., 0., 0., 0., 0., 0., 0., 0., 0.,\n",
       "         0., 0., 0., 1., 0., 0., 0., 0., 0., 0., 0., 0., 0., 0.],\n",
       "        [0., 0., 0., 0., 0., 0., 0., 0., 0., 0., 0., 0., 0., 0., 0., 0.,\n",
       "         0., 0., 0., 0., 0., 0., 0., 0., 0., 0., 0., 0., 0., 1.],\n",
       "        [0., 0., 0., 0., 0., 0., 0., 0., 0., 0., 0., 0., 0., 0., 0., 0.,\n",
       "         0., 1., 0., 0., 0., 0., 0., 0., 0., 0., 0., 0., 0., 0.],\n",
       "        [0., 0., 0., 0., 0., 0., 0., 0., 0., 0., 0., 0., 1., 0., 0., 0.,\n",
       "         0., 0., 0., 0., 0., 0., 0., 0., 0., 0., 0., 0., 0., 0.],\n",
       "        [0., 0., 0., 0., 0., 0., 0., 0., 0., 0., 0., 0., 0., 0., 0., 0.,\n",
       "         0., 0., 0., 0., 0., 0., 0., 1., 0., 0., 0., 0., 0., 0.],\n",
       "        [1., 0., 0., 0., 0., 0., 0., 0., 0., 0., 0., 0., 0., 0., 0., 0.,\n",
       "         0., 0., 0., 0., 0., 0., 0., 0., 0., 0., 0., 0., 0., 0.],\n",
       "        [0., 0., 0., 0., 0., 0., 0., 0., 0., 0., 0., 0., 0., 0., 0., 0.,\n",
       "         0., 0., 0., 0., 1., 0., 0., 0., 0., 0., 0., 0., 0., 0.]]),\n",
       " array([0.06606591, 0.06762068, 0.06917545, 0.07073021, 0.07228498,\n",
       "        0.07383975, 0.07539451, 0.07694928, 0.07850405, 0.08005881,\n",
       "        0.08161358, 0.08316835, 0.08472311, 0.08627788, 0.08783265,\n",
       "        0.08938742, 0.09094218, 0.09249695, 0.09405172, 0.09560648,\n",
       "        0.09716125, 0.09871602, 0.10027078, 0.10182555, 0.10338032,\n",
       "        0.10493509, 0.10648985, 0.10804462, 0.10959939, 0.11115415,\n",
       "        0.11270892]),\n",
       " <a list of 8 BarContainer objects>)"
      ]
     },
     "execution_count": 36,
     "metadata": {},
     "output_type": "execute_result"
    },
    {
     "data": {
      "image/png": "[encoded data removed]",
      "text/plain": [
       "<Figure size 432x288 with 1 Axes>"
      ]
     },
     "metadata": {
      "needs_background": "light"
     },
     "output_type": "display_data"
    }
   ],
   "source": [
    "reconstruct_f = model.predict(fail_test_data)\n",
    "train_loss_f = tf.keras.losses.mean_squared_error(reconstruct_f, fail_test_data)\n",
    "\n",
    "plt.hist(train_loss_f, bins = 30)"
   ]
  },
  {
   "cell_type": "code",
   "execution_count": 37,
   "metadata": {
    "colab": {
     "base_uri": "https://localhost:8080/"
    },
    "id": "Os6Yn3Entirv",
    "outputId": "77d7a588-e3e4-4133-b69a-c2398b418def"
   },
   "outputs": [
    {
     "name": "stdout",
     "output_type": "stream",
     "text": [
      "0.0900826183963158\n",
      "0.0151685695924588\n"
     ]
    }
   ],
   "source": [
    "print(np.mean(train_loss_f))\n",
    "print(np.std(train_loss_f))"
   ]
  },
  {
   "cell_type": "code",
   "execution_count": 38,
   "metadata": {
    "colab": {
     "base_uri": "https://localhost:8080/",
     "height": 265
    },
    "id": "MyE24vvjt_5f",
    "outputId": "0d0ace67-202f-4f5f-d971-84f5c817f649"
   },
   "outputs": [
    {
     "data": {
      "image/png": "[encoded data removed]",
      "text/plain": [
       "<Figure size 432x288 with 1 Axes>"
      ]
     },
     "metadata": {
      "needs_background": "light"
     },
     "output_type": "display_data"
    }
   ],
   "source": [
    "plt.hist(train_loss,bins=50, label = 'Pass')\n",
    "plt.hist(train_loss_f,bins=50, label = 'Fail')\n",
    "\n",
    "plt.axvline(_2sigma_boundary, color = 'r', linewidth =3, linestyle='dashed', label ='{:0.3f}'.format(_2sigma_boundary))\n",
    "\n",
    "plt.legend(loc='lower right')\n",
    "plt.show()"
   ]
  },
  {
   "cell_type": "code",
   "execution_count": 39,
   "metadata": {
    "id": "YlavpYdsuQ3O"
   },
   "outputs": [],
   "source": [
    "preds = tf.math.greater(train_loss_f, _2sigma_boundary)"
   ]
  },
  {
   "cell_type": "code",
   "execution_count": 40,
   "metadata": {
    "colab": {
     "base_uri": "https://localhost:8080/"
    },
    "id": "5B7HCSMdxuJL",
    "outputId": "d277db18-4ceb-4665-a6de-a72b5f609f80"
   },
   "outputs": [
    {
     "data": {
      "text/plain": [
       "<tf.Tensor: shape=(), dtype=int64, numpy=0>"
      ]
     },
     "execution_count": 40,
     "metadata": {},
     "output_type": "execute_result"
    }
   ],
   "source": [
    "tf.math.count_nonzero(preds)"
   ]
  },
  {
   "cell_type": "code",
   "execution_count": 41,
   "metadata": {
    "colab": {
     "base_uri": "https://localhost:8080/"
    },
    "id": "53-2_5AEyE56",
    "outputId": "5989aac7-339e-4cca-97a4-cacda3b0002b"
   },
   "outputs": [
    {
     "data": {
      "text/plain": [
       "TensorShape([8])"
      ]
     },
     "execution_count": 41,
     "metadata": {},
     "output_type": "execute_result"
    }
   ],
   "source": [
    "preds.shape"
   ]
  },
  {
   "cell_type": "code",
   "execution_count": null,
   "metadata": {
    "id": "iuA4ZUigyKET"
   },
   "outputs": [],
   "source": []
  },
  {
   "cell_type": "markdown",
   "metadata": {
    "id": "PtbLNWMyuKh_"
   },
   "source": [
    "## Building an Isolation Forest"
   ]
  },
  {
   "cell_type": "code",
   "execution_count": 47,
   "metadata": {
    "id": "_IMsdh4IuxDY"
   },
   "outputs": [],
   "source": [
    "# colab\n",
    "#full = pd.read_csv(\"/content/austin_restaurant_inspections_full_dataset_03.csv\")\n",
    "#X_train_scaled = pd.read_csv('/content/austin_restaurant_inspections_X_train_scaled.csv')\n",
    "#X_test_scaled = pd.read_csv('/content/austin_restaurant_inspections_X_test_scaled.csv')\n",
    "#y_train = pd.read_csv('/content/austin_restaurant_inspections_y_train_scaled.csv')\n",
    "#y_test = pd.read_csv('/content/austin_restaurant_inspections_y_test_scaled.csv')\n",
    "\n",
    "# local\n",
    "X_train = pd.read_csv(\"/Users/ellerybledsoe/Documents/GitHub/Springboard/austin_restaurant_inspections_X_train.csv\")\n",
    "X_test = pd.read_csv(\"/Users/ellerybledsoe/Documents/GitHub/Springboard/austin_restaurant_inspections_X_test.csv\")\n",
    "full = pd.read_csv(\"/Users/ellerybledsoe/Documents/GitHub/Springboard/austin_restaurant_inspections_full_dataset_03.csv\")\n",
    "X_train_scaled = pd.read_csv('/Users/ellerybledsoe/Documents/GitHub/Springboard/austin_restaurant_inspections_X_train_scaled.csv')\n",
    "X_test_scaled = pd.read_csv('/Users/ellerybledsoe/Documents/GitHub/Springboard/austin_restaurant_inspections_X_test_scaled.csv')\n",
    "y_train = pd.read_csv('/Users/ellerybledsoe/Documents/GitHub/Springboard/austin_restaurant_inspections_y_train_scaled.csv')\n",
    "y_test = pd.read_csv('/Users/ellerybledsoe/Documents/GitHub/Springboard/austin_restaurant_inspections_y_test_scaled.csv')"
   ]
  },
  {
   "cell_type": "code",
   "execution_count": 48,
   "metadata": {
    "colab": {
     "base_uri": "https://localhost:8080/",
     "height": 241
    },
    "id": "Qf3-81IqFU8E",
    "outputId": "a6f80860-a6c8-4f3f-dbb3-b34b587803f3"
   },
   "outputs": [
    {
     "data": {
      "text/html": [
       "<div>\n",
       "<style scoped>\n",
       "    .dataframe tbody tr th:only-of-type {\n",
       "        vertical-align: middle;\n",
       "    }\n",
       "\n",
       "    .dataframe tbody tr th {\n",
       "        vertical-align: top;\n",
       "    }\n",
       "\n",
       "    .dataframe thead th {\n",
       "        text-align: right;\n",
       "    }\n",
       "</style>\n",
       "<table border=\"1\" class=\"dataframe\">\n",
       "  <thead>\n",
       "    <tr style=\"text-align: right;\">\n",
       "      <th></th>\n",
       "      <th>Unnamed: 0</th>\n",
       "      <th>review_length</th>\n",
       "      <th>review_word_count</th>\n",
       "      <th>Score</th>\n",
       "      <th>oldest_score</th>\n",
       "      <th>newest_score</th>\n",
       "      <th>reviews_count</th>\n",
       "      <th>stars</th>\n",
       "      <th>useful_sum</th>\n",
       "      <th>stars_5.0_sum</th>\n",
       "      <th>...</th>\n",
       "      <th>Alcohol_u'full_bar'</th>\n",
       "      <th>Mexican</th>\n",
       "      <th>Nightlife</th>\n",
       "      <th>NoiseLevel_0</th>\n",
       "      <th>DogsAllowed</th>\n",
       "      <th>Breakfast &amp; Brunch</th>\n",
       "      <th>RestaurantsPriceRange_0.0</th>\n",
       "      <th>RestaurantsPriceRange_1.0</th>\n",
       "      <th>RestaurantsPriceRange_2.0</th>\n",
       "      <th>RestaurantsPriceRange_3.0</th>\n",
       "    </tr>\n",
       "  </thead>\n",
       "  <tbody>\n",
       "    <tr>\n",
       "      <th>0</th>\n",
       "      <td>4153</td>\n",
       "      <td>1669.0</td>\n",
       "      <td>327.0</td>\n",
       "      <td>97.0</td>\n",
       "      <td>91.0</td>\n",
       "      <td>74.0</td>\n",
       "      <td>2.0</td>\n",
       "      <td>2.5</td>\n",
       "      <td>1.0</td>\n",
       "      <td>0.0</td>\n",
       "      <td>...</td>\n",
       "      <td>0</td>\n",
       "      <td>0.0</td>\n",
       "      <td>0.0</td>\n",
       "      <td>0</td>\n",
       "      <td>0.0</td>\n",
       "      <td>1.0</td>\n",
       "      <td>0</td>\n",
       "      <td>0</td>\n",
       "      <td>1</td>\n",
       "      <td>0</td>\n",
       "    </tr>\n",
       "    <tr>\n",
       "      <th>1</th>\n",
       "      <td>2528</td>\n",
       "      <td>7474.5</td>\n",
       "      <td>1351.5</td>\n",
       "      <td>84.0</td>\n",
       "      <td>79.0</td>\n",
       "      <td>86.0</td>\n",
       "      <td>17.0</td>\n",
       "      <td>4.0</td>\n",
       "      <td>8.0</td>\n",
       "      <td>7.0</td>\n",
       "      <td>...</td>\n",
       "      <td>1</td>\n",
       "      <td>0.0</td>\n",
       "      <td>0.0</td>\n",
       "      <td>0</td>\n",
       "      <td>1.0</td>\n",
       "      <td>1.0</td>\n",
       "      <td>0</td>\n",
       "      <td>0</td>\n",
       "      <td>1</td>\n",
       "      <td>0</td>\n",
       "    </tr>\n",
       "    <tr>\n",
       "      <th>2</th>\n",
       "      <td>5064</td>\n",
       "      <td>0.0</td>\n",
       "      <td>0.0</td>\n",
       "      <td>93.0</td>\n",
       "      <td>94.0</td>\n",
       "      <td>93.0</td>\n",
       "      <td>0.0</td>\n",
       "      <td>3.0</td>\n",
       "      <td>0.0</td>\n",
       "      <td>0.0</td>\n",
       "      <td>...</td>\n",
       "      <td>1</td>\n",
       "      <td>0.0</td>\n",
       "      <td>1.0</td>\n",
       "      <td>0</td>\n",
       "      <td>1.0</td>\n",
       "      <td>0.0</td>\n",
       "      <td>0</td>\n",
       "      <td>0</td>\n",
       "      <td>1</td>\n",
       "      <td>0</td>\n",
       "    </tr>\n",
       "    <tr>\n",
       "      <th>3</th>\n",
       "      <td>4135</td>\n",
       "      <td>738.0</td>\n",
       "      <td>127.0</td>\n",
       "      <td>100.0</td>\n",
       "      <td>100.0</td>\n",
       "      <td>90.0</td>\n",
       "      <td>1.0</td>\n",
       "      <td>4.0</td>\n",
       "      <td>0.0</td>\n",
       "      <td>1.0</td>\n",
       "      <td>...</td>\n",
       "      <td>0</td>\n",
       "      <td>0.0</td>\n",
       "      <td>0.0</td>\n",
       "      <td>0</td>\n",
       "      <td>0.0</td>\n",
       "      <td>0.0</td>\n",
       "      <td>1</td>\n",
       "      <td>0</td>\n",
       "      <td>0</td>\n",
       "      <td>0</td>\n",
       "    </tr>\n",
       "    <tr>\n",
       "      <th>4</th>\n",
       "      <td>723</td>\n",
       "      <td>11055.5</td>\n",
       "      <td>2057.0</td>\n",
       "      <td>92.0</td>\n",
       "      <td>92.0</td>\n",
       "      <td>91.0</td>\n",
       "      <td>35.0</td>\n",
       "      <td>4.0</td>\n",
       "      <td>11.0</td>\n",
       "      <td>18.0</td>\n",
       "      <td>...</td>\n",
       "      <td>0</td>\n",
       "      <td>0.0</td>\n",
       "      <td>0.0</td>\n",
       "      <td>0</td>\n",
       "      <td>0.0</td>\n",
       "      <td>0.0</td>\n",
       "      <td>0</td>\n",
       "      <td>0</td>\n",
       "      <td>1</td>\n",
       "      <td>0</td>\n",
       "    </tr>\n",
       "  </tbody>\n",
       "</table>\n",
       "<p>5 rows × 57 columns</p>\n",
       "</div>"
      ],
      "text/plain": [
       "   Unnamed: 0  review_length  review_word_count  Score  oldest_score  \\\n",
       "0        4153         1669.0              327.0   97.0          91.0   \n",
       "1        2528         7474.5             1351.5   84.0          79.0   \n",
       "2        5064            0.0                0.0   93.0          94.0   \n",
       "3        4135          738.0              127.0  100.0         100.0   \n",
       "4         723        11055.5             2057.0   92.0          92.0   \n",
       "\n",
       "   newest_score  reviews_count  stars  useful_sum  stars_5.0_sum  ...  \\\n",
       "0          74.0            2.0    2.5         1.0            0.0  ...   \n",
       "1          86.0           17.0    4.0         8.0            7.0  ...   \n",
       "2          93.0            0.0    3.0         0.0            0.0  ...   \n",
       "3          90.0            1.0    4.0         0.0            1.0  ...   \n",
       "4          91.0           35.0    4.0        11.0           18.0  ...   \n",
       "\n",
       "   Alcohol_u'full_bar'  Mexican  Nightlife  NoiseLevel_0  DogsAllowed  \\\n",
       "0                    0      0.0        0.0             0          0.0   \n",
       "1                    1      0.0        0.0             0          1.0   \n",
       "2                    1      0.0        1.0             0          1.0   \n",
       "3                    0      0.0        0.0             0          0.0   \n",
       "4                    0      0.0        0.0             0          0.0   \n",
       "\n",
       "   Breakfast & Brunch  RestaurantsPriceRange_0.0  RestaurantsPriceRange_1.0  \\\n",
       "0                 1.0                          0                          0   \n",
       "1                 1.0                          0                          0   \n",
       "2                 0.0                          0                          0   \n",
       "3                 0.0                          1                          0   \n",
       "4                 0.0                          0                          0   \n",
       "\n",
       "   RestaurantsPriceRange_2.0  RestaurantsPriceRange_3.0  \n",
       "0                          1                          0  \n",
       "1                          1                          0  \n",
       "2                          1                          0  \n",
       "3                          0                          0  \n",
       "4                          1                          0  \n",
       "\n",
       "[5 rows x 57 columns]"
      ]
     },
     "execution_count": 48,
     "metadata": {},
     "output_type": "execute_result"
    }
   ],
   "source": [
    "X_train.head()"
   ]
  },
  {
   "cell_type": "code",
   "execution_count": 49,
   "metadata": {
    "id": "SE7vE6F_Gjrk"
   },
   "outputs": [],
   "source": [
    "y_train.drop(columns=['Unnamed: 0'], inplace = True)\n",
    "X_train.drop(columns=['Unnamed: 0','Score','oldest_score','newest_score','is_open','RestaurantsPriceRange_0.0','Food'], inplace = True)\n",
    "y_test.drop(columns=['Unnamed: 0'], inplace = True)\n",
    "X_test.drop(columns=['Unnamed: 0','Score','oldest_score','newest_score','is_open','RestaurantsPriceRange_0.0','Food'], inplace = True)"
   ]
  },
  {
   "cell_type": "code",
   "execution_count": 50,
   "metadata": {
    "id": "MC8Me0-WuB35"
   },
   "outputs": [],
   "source": [
    "# fitting on all training data\n",
    "\n",
    "from pylab import savefig\n",
    "from sklearn.ensemble import IsolationForest\n",
    "\n",
    "rseed = 9887\n",
    "\n",
    "iso = IsolationForest(max_samples=100, random_state=rseed)\n",
    "iso.fit(X_train)\n",
    "\n",
    "y_pred_train = iso.predict(X_train)\n",
    "y_pred_test = iso.predict(X_test)\n",
    "#y_pred_outliers = iso.predict(X_outliers)\n",
    "\n",
    "# https://scikit-learn.org/stable/auto_examples/ensemble/plot_isolation_forest.html#sphx-glr-auto-examples-ensemble-plot-isolation-forest-py"
   ]
  },
  {
   "cell_type": "code",
   "execution_count": 51,
   "metadata": {
    "colab": {
     "base_uri": "https://localhost:8080/"
    },
    "id": "ZWbl5ZJMuB-i",
    "outputId": "9c8c7f7f-0bc0-47b5-8d6e-f5cfd7df3d1c"
   },
   "outputs": [
    {
     "name": "stdout",
     "output_type": "stream",
     "text": [
      "Accuracy on passes, full train: 0.47842884739214425\n",
      "Accuracy on passes, full test: 0.49098712446351933\n"
     ]
    }
   ],
   "source": [
    "print(\"Accuracy on passes, full train:\", list(y_pred_train).count(1)/y_pred_train.shape[0])\n",
    "print(\"Accuracy on passes, full test:\", list(y_pred_test).count(1)/y_pred_test.shape[0])\n"
   ]
  },
  {
   "cell_type": "code",
   "execution_count": 52,
   "metadata": {
    "colab": {
     "base_uri": "https://localhost:8080/",
     "height": 241
    },
    "id": "-XMqvHjzLgjQ",
    "outputId": "b8cb0e90-0954-4fde-ea0d-e0b677cc87c5"
   },
   "outputs": [
    {
     "data": {
      "text/html": [
       "<div>\n",
       "<style scoped>\n",
       "    .dataframe tbody tr th:only-of-type {\n",
       "        vertical-align: middle;\n",
       "    }\n",
       "\n",
       "    .dataframe tbody tr th {\n",
       "        vertical-align: top;\n",
       "    }\n",
       "\n",
       "    .dataframe thead th {\n",
       "        text-align: right;\n",
       "    }\n",
       "</style>\n",
       "<table border=\"1\" class=\"dataframe\">\n",
       "  <thead>\n",
       "    <tr style=\"text-align: right;\">\n",
       "      <th></th>\n",
       "      <th>review_length</th>\n",
       "      <th>review_word_count</th>\n",
       "      <th>reviews_count</th>\n",
       "      <th>stars</th>\n",
       "      <th>useful_sum</th>\n",
       "      <th>stars_5.0_sum</th>\n",
       "      <th>cool_sum</th>\n",
       "      <th>RestaurantsPriceRange2</th>\n",
       "      <th>funny_sum</th>\n",
       "      <th>Restaurants</th>\n",
       "      <th>...</th>\n",
       "      <th>WiFi_u'no'</th>\n",
       "      <th>Alcohol_u'full_bar'</th>\n",
       "      <th>Mexican</th>\n",
       "      <th>Nightlife</th>\n",
       "      <th>NoiseLevel_0</th>\n",
       "      <th>DogsAllowed</th>\n",
       "      <th>Breakfast &amp; Brunch</th>\n",
       "      <th>RestaurantsPriceRange_1.0</th>\n",
       "      <th>RestaurantsPriceRange_2.0</th>\n",
       "      <th>RestaurantsPriceRange_3.0</th>\n",
       "    </tr>\n",
       "  </thead>\n",
       "  <tbody>\n",
       "    <tr>\n",
       "      <th>0</th>\n",
       "      <td>0.021689</td>\n",
       "      <td>0.020042</td>\n",
       "      <td>0.008065</td>\n",
       "      <td>0.571429</td>\n",
       "      <td>0.000000</td>\n",
       "      <td>0.005348</td>\n",
       "      <td>0.000000</td>\n",
       "      <td>0.25</td>\n",
       "      <td>0.000000</td>\n",
       "      <td>1.0</td>\n",
       "      <td>...</td>\n",
       "      <td>0</td>\n",
       "      <td>0</td>\n",
       "      <td>0.0</td>\n",
       "      <td>1.0</td>\n",
       "      <td>0</td>\n",
       "      <td>0.0</td>\n",
       "      <td>1.0</td>\n",
       "      <td>1</td>\n",
       "      <td>0</td>\n",
       "      <td>0</td>\n",
       "    </tr>\n",
       "    <tr>\n",
       "      <th>1</th>\n",
       "      <td>0.030766</td>\n",
       "      <td>0.029896</td>\n",
       "      <td>0.008065</td>\n",
       "      <td>0.428571</td>\n",
       "      <td>0.000000</td>\n",
       "      <td>0.000000</td>\n",
       "      <td>0.000000</td>\n",
       "      <td>0.25</td>\n",
       "      <td>0.000000</td>\n",
       "      <td>1.0</td>\n",
       "      <td>...</td>\n",
       "      <td>0</td>\n",
       "      <td>0</td>\n",
       "      <td>0.0</td>\n",
       "      <td>0.0</td>\n",
       "      <td>1</td>\n",
       "      <td>0.0</td>\n",
       "      <td>0.0</td>\n",
       "      <td>1</td>\n",
       "      <td>0</td>\n",
       "      <td>0</td>\n",
       "    </tr>\n",
       "    <tr>\n",
       "      <th>2</th>\n",
       "      <td>0.044780</td>\n",
       "      <td>0.041587</td>\n",
       "      <td>0.020161</td>\n",
       "      <td>0.714286</td>\n",
       "      <td>0.033898</td>\n",
       "      <td>0.021390</td>\n",
       "      <td>0.029557</td>\n",
       "      <td>0.50</td>\n",
       "      <td>0.034247</td>\n",
       "      <td>1.0</td>\n",
       "      <td>...</td>\n",
       "      <td>0</td>\n",
       "      <td>1</td>\n",
       "      <td>0.0</td>\n",
       "      <td>0.0</td>\n",
       "      <td>0</td>\n",
       "      <td>1.0</td>\n",
       "      <td>0.0</td>\n",
       "      <td>0</td>\n",
       "      <td>1</td>\n",
       "      <td>0</td>\n",
       "    </tr>\n",
       "    <tr>\n",
       "      <th>3</th>\n",
       "      <td>0.008249</td>\n",
       "      <td>0.007516</td>\n",
       "      <td>0.004032</td>\n",
       "      <td>0.571429</td>\n",
       "      <td>0.000000</td>\n",
       "      <td>0.005348</td>\n",
       "      <td>0.000000</td>\n",
       "      <td>0.25</td>\n",
       "      <td>0.000000</td>\n",
       "      <td>1.0</td>\n",
       "      <td>...</td>\n",
       "      <td>0</td>\n",
       "      <td>0</td>\n",
       "      <td>1.0</td>\n",
       "      <td>0.0</td>\n",
       "      <td>0</td>\n",
       "      <td>0.0</td>\n",
       "      <td>0.0</td>\n",
       "      <td>1</td>\n",
       "      <td>0</td>\n",
       "      <td>0</td>\n",
       "    </tr>\n",
       "    <tr>\n",
       "      <th>4</th>\n",
       "      <td>0.000000</td>\n",
       "      <td>0.000000</td>\n",
       "      <td>0.000000</td>\n",
       "      <td>0.428571</td>\n",
       "      <td>0.000000</td>\n",
       "      <td>0.000000</td>\n",
       "      <td>0.000000</td>\n",
       "      <td>0.25</td>\n",
       "      <td>0.000000</td>\n",
       "      <td>1.0</td>\n",
       "      <td>...</td>\n",
       "      <td>0</td>\n",
       "      <td>0</td>\n",
       "      <td>0.0</td>\n",
       "      <td>0.0</td>\n",
       "      <td>0</td>\n",
       "      <td>0.0</td>\n",
       "      <td>0.0</td>\n",
       "      <td>1</td>\n",
       "      <td>0</td>\n",
       "      <td>0</td>\n",
       "    </tr>\n",
       "  </tbody>\n",
       "</table>\n",
       "<p>5 rows × 50 columns</p>\n",
       "</div>"
      ],
      "text/plain": [
       "   review_length  review_word_count  reviews_count     stars  useful_sum  \\\n",
       "0       0.021689           0.020042       0.008065  0.571429    0.000000   \n",
       "1       0.030766           0.029896       0.008065  0.428571    0.000000   \n",
       "2       0.044780           0.041587       0.020161  0.714286    0.033898   \n",
       "3       0.008249           0.007516       0.004032  0.571429    0.000000   \n",
       "4       0.000000           0.000000       0.000000  0.428571    0.000000   \n",
       "\n",
       "   stars_5.0_sum  cool_sum  RestaurantsPriceRange2  funny_sum  Restaurants  \\\n",
       "0       0.005348  0.000000                    0.25   0.000000          1.0   \n",
       "1       0.000000  0.000000                    0.25   0.000000          1.0   \n",
       "2       0.021390  0.029557                    0.50   0.034247          1.0   \n",
       "3       0.005348  0.000000                    0.25   0.000000          1.0   \n",
       "4       0.000000  0.000000                    0.25   0.000000          1.0   \n",
       "\n",
       "   ...  WiFi_u'no'  Alcohol_u'full_bar'  Mexican  Nightlife  NoiseLevel_0  \\\n",
       "0  ...           0                    0      0.0        1.0             0   \n",
       "1  ...           0                    0      0.0        0.0             1   \n",
       "2  ...           0                    1      0.0        0.0             0   \n",
       "3  ...           0                    0      1.0        0.0             0   \n",
       "4  ...           0                    0      0.0        0.0             0   \n",
       "\n",
       "   DogsAllowed  Breakfast & Brunch  RestaurantsPriceRange_1.0  \\\n",
       "0          0.0                 1.0                          1   \n",
       "1          0.0                 0.0                          1   \n",
       "2          1.0                 0.0                          0   \n",
       "3          0.0                 0.0                          1   \n",
       "4          0.0                 0.0                          1   \n",
       "\n",
       "   RestaurantsPriceRange_2.0  RestaurantsPriceRange_3.0  \n",
       "0                          0                          0  \n",
       "1                          0                          0  \n",
       "2                          1                          0  \n",
       "3                          0                          0  \n",
       "4                          0                          0  \n",
       "\n",
       "[5 rows x 50 columns]"
      ]
     },
     "execution_count": 52,
     "metadata": {},
     "output_type": "execute_result"
    }
   ],
   "source": [
    "pass_test_data.head()"
   ]
  },
  {
   "cell_type": "code",
   "execution_count": 54,
   "metadata": {},
   "outputs": [
    {
     "name": "stdout",
     "output_type": "stream",
     "text": [
      "(4659, 50)\n",
      "(4659, 1)\n",
      "(1165, 1)\n",
      "(4659, 51)\n",
      "(1165, 51)\n"
     ]
    }
   ],
   "source": [
    "print(X_train.shape)\n",
    "print(y_train.shape)\n",
    "print(y_test.shape)\n",
    "\n",
    "train = pd.concat([y_train,X_train], axis=1)\n",
    "test = pd.concat([y_test,X_test], axis=1)\n",
    "\n",
    "print(train.shape)\n",
    "print(test.shape)"
   ]
  },
  {
   "cell_type": "code",
   "execution_count": 55,
   "metadata": {
    "id": "Pn9yfCHlLgxa"
   },
   "outputs": [
    {
     "name": "stderr",
     "output_type": "stream",
     "text": [
      "/var/folders/9p/zdxgq7zd7bbfhp_s10rpv2lm0000gn/T/ipykernel_24600/1906678320.py:1: UserWarning: Boolean Series key will be reindexed to match DataFrame index.\n",
      "  pass_train_y_val = test_scaled[train.pass_fail_flag == 0].iloc[:,0:1].reset_index(drop=True)\n",
      "/var/folders/9p/zdxgq7zd7bbfhp_s10rpv2lm0000gn/T/ipykernel_24600/1906678320.py:2: UserWarning: Boolean Series key will be reindexed to match DataFrame index.\n",
      "  fail_train_y_val = test_scaled[train_scaled.pass_fail_flag == 1].iloc[:,0:1].reset_index(drop=True)\n"
     ]
    }
   ],
   "source": [
    "pass_train_y_val = test_scaled[train.pass_fail_flag == 0].iloc[:,0:1].reset_index(drop=True)\n",
    "fail_train_y_val = test_scaled[train_scaled.pass_fail_flag == 1].iloc[:,0:1].reset_index(drop=True)\n",
    "pass_test_y_val = test_scaled[test_scaled.pass_fail_flag == 0].iloc[:,0:1].reset_index(drop=True)\n",
    "fail_test_y_val = test_scaled[test_scaled.pass_fail_flag == 1].iloc[:,0:1].reset_index(drop=True)"
   ]
  },
  {
   "cell_type": "code",
   "execution_count": 56,
   "metadata": {
    "colab": {
     "base_uri": "https://localhost:8080/",
     "height": 204
    },
    "id": "jbekKSffLwfs",
    "outputId": "f812db64-f627-4699-e9d3-fae4a8e78ece"
   },
   "outputs": [
    {
     "data": {
      "text/html": [
       "<div>\n",
       "<style scoped>\n",
       "    .dataframe tbody tr th:only-of-type {\n",
       "        vertical-align: middle;\n",
       "    }\n",
       "\n",
       "    .dataframe tbody tr th {\n",
       "        vertical-align: top;\n",
       "    }\n",
       "\n",
       "    .dataframe thead th {\n",
       "        text-align: right;\n",
       "    }\n",
       "</style>\n",
       "<table border=\"1\" class=\"dataframe\">\n",
       "  <thead>\n",
       "    <tr style=\"text-align: right;\">\n",
       "      <th></th>\n",
       "      <th>pass_fail_flag</th>\n",
       "    </tr>\n",
       "  </thead>\n",
       "  <tbody>\n",
       "    <tr>\n",
       "      <th>0</th>\n",
       "      <td>1</td>\n",
       "    </tr>\n",
       "    <tr>\n",
       "      <th>1</th>\n",
       "      <td>1</td>\n",
       "    </tr>\n",
       "    <tr>\n",
       "      <th>2</th>\n",
       "      <td>1</td>\n",
       "    </tr>\n",
       "    <tr>\n",
       "      <th>3</th>\n",
       "      <td>1</td>\n",
       "    </tr>\n",
       "    <tr>\n",
       "      <th>4</th>\n",
       "      <td>1</td>\n",
       "    </tr>\n",
       "  </tbody>\n",
       "</table>\n",
       "</div>"
      ],
      "text/plain": [
       "   pass_fail_flag\n",
       "0               1\n",
       "1               1\n",
       "2               1\n",
       "3               1\n",
       "4               1"
      ]
     },
     "execution_count": 56,
     "metadata": {},
     "output_type": "execute_result"
    }
   ],
   "source": [
    "fail_test_y_val.head()"
   ]
  },
  {
   "cell_type": "code",
   "execution_count": 57,
   "metadata": {
    "id": "mGQ1IaOeAXXE"
   },
   "outputs": [],
   "source": [
    "# fitting on all 'passing' training data\n",
    "iso = IsolationForest(max_samples=100, random_state=rseed)\n",
    "iso.fit(pass_train_data)\n",
    "\n",
    "\n",
    "y_pred_train = iso.predict(pass_train_data)\n",
    "y_pred_test = iso.predict(pass_test_data)\n",
    "y_pred_outliers = iso.predict(fail_test_data)"
   ]
  },
  {
   "cell_type": "code",
   "execution_count": 58,
   "metadata": {
    "colab": {
     "base_uri": "https://localhost:8080/"
    },
    "id": "Ssls3-rsDH2R",
    "outputId": "70893211-84f9-4313-b719-32902600ded0"
   },
   "outputs": [
    {
     "name": "stdout",
     "output_type": "stream",
     "text": [
      "Accuracy on passes, pass_train: 0.5063866637800389\n",
      "Accuracy on passes, pass_test: 0.5099394987035436\n",
      "Accuracy on fails, fail_test: 0.75\n"
     ]
    }
   ],
   "source": [
    "print(\"Accuracy on passes, pass_train:\", list(y_pred_train).count(1)/y_pred_train.shape[0])\n",
    "print(\"Accuracy on passes, pass_test:\", list(y_pred_test).count(1)/y_pred_test.shape[0])\n",
    "\n",
    "print(\"Accuracy on fails, fail_test:\", list(y_pred_outliers).count(-1)/y_pred_outliers.shape[0])"
   ]
  },
  {
   "cell_type": "code",
   "execution_count": 59,
   "metadata": {
    "colab": {
     "base_uri": "https://localhost:8080/"
    },
    "id": "Hfh_GzgyM3du",
    "outputId": "3dcf07da-4376-4bdd-bdaa-3f5b3532f90a"
   },
   "outputs": [
    {
     "name": "stdout",
     "output_type": "stream",
     "text": [
      "[ 1 -1 -1 -1 -1 -1 -1  1]\n"
     ]
    }
   ],
   "source": [
    "print(y_pred_outliers)"
   ]
  },
  {
   "cell_type": "code",
   "execution_count": 60,
   "metadata": {},
   "outputs": [
    {
     "data": {
      "text/plain": [
       "<bound method BaseEstimator.get_params of IsolationForest(max_samples=100, random_state=9887)>"
      ]
     },
     "execution_count": 60,
     "metadata": {},
     "output_type": "execute_result"
    }
   ],
   "source": [
    "iso.get_params"
   ]
  },
  {
   "cell_type": "code",
   "execution_count": 61,
   "metadata": {},
   "outputs": [
    {
     "ename": "ImportError",
     "evalue": "Numba needs NumPy 1.20 or less",
     "output_type": "error",
     "traceback": [
      "\u001b[0;31m---------------------------------------------------------------------------\u001b[0m",
      "\u001b[0;31mImportError\u001b[0m                               Traceback (most recent call last)",
      "\u001b[0;32m/var/folders/9p/zdxgq7zd7bbfhp_s10rpv2lm0000gn/T/ipykernel_24600/4077888616.py\u001b[0m in \u001b[0;36m<module>\u001b[0;34m\u001b[0m\n\u001b[0;32m----> 1\u001b[0;31m \u001b[0;32mimport\u001b[0m \u001b[0mshap\u001b[0m\u001b[0;34m\u001b[0m\u001b[0;34m\u001b[0m\u001b[0m\n\u001b[0m\u001b[1;32m      2\u001b[0m \u001b[0;34m\u001b[0m\u001b[0m\n\u001b[1;32m      3\u001b[0m \u001b[0;31m# Create shap values and plot them\u001b[0m\u001b[0;34m\u001b[0m\u001b[0;34m\u001b[0m\u001b[0;34m\u001b[0m\u001b[0m\n\u001b[1;32m      4\u001b[0m \u001b[0mX_explain\u001b[0m \u001b[0;34m=\u001b[0m \u001b[0mX_test\u001b[0m\u001b[0;34m\u001b[0m\u001b[0;34m\u001b[0m\u001b[0m\n\u001b[1;32m      5\u001b[0m \u001b[0mshap_values\u001b[0m \u001b[0;34m=\u001b[0m \u001b[0mshap\u001b[0m\u001b[0;34m.\u001b[0m\u001b[0mTreeExplainer\u001b[0m\u001b[0;34m(\u001b[0m\u001b[0mest\u001b[0m\u001b[0;34m)\u001b[0m\u001b[0;34m.\u001b[0m\u001b[0mshap_values\u001b[0m\u001b[0;34m(\u001b[0m\u001b[0mX_explain\u001b[0m\u001b[0;34m)\u001b[0m\u001b[0;34m\u001b[0m\u001b[0;34m\u001b[0m\u001b[0m\n",
      "\u001b[0;32m~/.pyenv/versions/3.9.6/lib/python3.9/site-packages/shap/__init__.py\u001b[0m in \u001b[0;36m<module>\u001b[0;34m\u001b[0m\n\u001b[1;32m     10\u001b[0m     \u001b[0mwarnings\u001b[0m\u001b[0;34m.\u001b[0m\u001b[0mwarn\u001b[0m\u001b[0;34m(\u001b[0m\u001b[0;34m\"As of version 0.29.0 shap only supports Python 3 (not 2)!\"\u001b[0m\u001b[0;34m)\u001b[0m\u001b[0;34m\u001b[0m\u001b[0;34m\u001b[0m\u001b[0m\n\u001b[1;32m     11\u001b[0m \u001b[0;34m\u001b[0m\u001b[0m\n\u001b[0;32m---> 12\u001b[0;31m \u001b[0;32mfrom\u001b[0m \u001b[0;34m.\u001b[0m\u001b[0m_explanation\u001b[0m \u001b[0;32mimport\u001b[0m \u001b[0mExplanation\u001b[0m\u001b[0;34m,\u001b[0m \u001b[0mCohorts\u001b[0m\u001b[0;34m\u001b[0m\u001b[0;34m\u001b[0m\u001b[0m\n\u001b[0m\u001b[1;32m     13\u001b[0m \u001b[0;34m\u001b[0m\u001b[0m\n\u001b[1;32m     14\u001b[0m \u001b[0;31m# explainers\u001b[0m\u001b[0;34m\u001b[0m\u001b[0;34m\u001b[0m\u001b[0;34m\u001b[0m\u001b[0m\n",
      "\u001b[0;32m~/.pyenv/versions/3.9.6/lib/python3.9/site-packages/shap/_explanation.py\u001b[0m in \u001b[0;36m<module>\u001b[0;34m\u001b[0m\n\u001b[1;32m     10\u001b[0m \u001b[0;32mfrom\u001b[0m \u001b[0mslicer\u001b[0m \u001b[0;32mimport\u001b[0m \u001b[0mSlicer\u001b[0m\u001b[0;34m,\u001b[0m \u001b[0mAlias\u001b[0m\u001b[0;34m,\u001b[0m \u001b[0mObj\u001b[0m\u001b[0;34m\u001b[0m\u001b[0;34m\u001b[0m\u001b[0m\n\u001b[1;32m     11\u001b[0m \u001b[0;31m# from ._order import Order\u001b[0m\u001b[0;34m\u001b[0m\u001b[0;34m\u001b[0m\u001b[0;34m\u001b[0m\u001b[0m\n\u001b[0;32m---> 12\u001b[0;31m \u001b[0;32mfrom\u001b[0m \u001b[0;34m.\u001b[0m\u001b[0mutils\u001b[0m\u001b[0;34m.\u001b[0m\u001b[0m_general\u001b[0m \u001b[0;32mimport\u001b[0m \u001b[0mOpChain\u001b[0m\u001b[0;34m\u001b[0m\u001b[0;34m\u001b[0m\u001b[0m\n\u001b[0m\u001b[1;32m     13\u001b[0m \u001b[0;34m\u001b[0m\u001b[0m\n\u001b[1;32m     14\u001b[0m \u001b[0;31m# slicer confuses pylint...\u001b[0m\u001b[0;34m\u001b[0m\u001b[0;34m\u001b[0m\u001b[0;34m\u001b[0m\u001b[0m\n",
      "\u001b[0;32m~/.pyenv/versions/3.9.6/lib/python3.9/site-packages/shap/utils/__init__.py\u001b[0m in \u001b[0;36m<module>\u001b[0;34m\u001b[0m\n\u001b[0;32m----> 1\u001b[0;31m \u001b[0;32mfrom\u001b[0m \u001b[0;34m.\u001b[0m\u001b[0m_clustering\u001b[0m \u001b[0;32mimport\u001b[0m \u001b[0mhclust_ordering\u001b[0m\u001b[0;34m,\u001b[0m \u001b[0mpartition_tree\u001b[0m\u001b[0;34m,\u001b[0m \u001b[0mpartition_tree_shuffle\u001b[0m\u001b[0;34m,\u001b[0m \u001b[0mdelta_minimization_order\u001b[0m\u001b[0;34m,\u001b[0m \u001b[0mhclust\u001b[0m\u001b[0;34m\u001b[0m\u001b[0;34m\u001b[0m\u001b[0m\n\u001b[0m\u001b[1;32m      2\u001b[0m \u001b[0;32mfrom\u001b[0m \u001b[0;34m.\u001b[0m\u001b[0m_general\u001b[0m \u001b[0;32mimport\u001b[0m \u001b[0mapproximate_interactions\u001b[0m\u001b[0;34m,\u001b[0m \u001b[0mpotential_interactions\u001b[0m\u001b[0;34m,\u001b[0m \u001b[0msample\u001b[0m\u001b[0;34m,\u001b[0m \u001b[0msafe_isinstance\u001b[0m\u001b[0;34m,\u001b[0m \u001b[0massert_import\u001b[0m\u001b[0;34m,\u001b[0m \u001b[0mrecord_import_error\u001b[0m\u001b[0;34m\u001b[0m\u001b[0;34m\u001b[0m\u001b[0m\n\u001b[1;32m      3\u001b[0m \u001b[0;32mfrom\u001b[0m \u001b[0;34m.\u001b[0m\u001b[0m_general\u001b[0m \u001b[0;32mimport\u001b[0m \u001b[0mshapley_coefficients\u001b[0m\u001b[0;34m,\u001b[0m \u001b[0mconvert_name\u001b[0m\u001b[0;34m,\u001b[0m \u001b[0mformat_value\u001b[0m\u001b[0;34m,\u001b[0m \u001b[0mordinal_str\u001b[0m\u001b[0;34m,\u001b[0m \u001b[0mOpChain\u001b[0m\u001b[0;34m\u001b[0m\u001b[0;34m\u001b[0m\u001b[0m\n\u001b[1;32m      4\u001b[0m \u001b[0;32mfrom\u001b[0m \u001b[0;34m.\u001b[0m\u001b[0m_show_progress\u001b[0m \u001b[0;32mimport\u001b[0m \u001b[0mshow_progress\u001b[0m\u001b[0;34m\u001b[0m\u001b[0;34m\u001b[0m\u001b[0m\n\u001b[1;32m      5\u001b[0m \u001b[0;32mfrom\u001b[0m \u001b[0;34m.\u001b[0m\u001b[0m_masked_model\u001b[0m \u001b[0;32mimport\u001b[0m \u001b[0mMaskedModel\u001b[0m\u001b[0;34m,\u001b[0m \u001b[0mmake_masks\u001b[0m\u001b[0;34m\u001b[0m\u001b[0;34m\u001b[0m\u001b[0m\n",
      "\u001b[0;32m~/.pyenv/versions/3.9.6/lib/python3.9/site-packages/shap/utils/_clustering.py\u001b[0m in \u001b[0;36m<module>\u001b[0;34m\u001b[0m\n\u001b[1;32m      2\u001b[0m \u001b[0;32mimport\u001b[0m \u001b[0mscipy\u001b[0m \u001b[0;32mas\u001b[0m \u001b[0msp\u001b[0m\u001b[0;34m\u001b[0m\u001b[0;34m\u001b[0m\u001b[0m\n\u001b[1;32m      3\u001b[0m \u001b[0;32mfrom\u001b[0m \u001b[0mscipy\u001b[0m\u001b[0;34m.\u001b[0m\u001b[0mspatial\u001b[0m\u001b[0;34m.\u001b[0m\u001b[0mdistance\u001b[0m \u001b[0;32mimport\u001b[0m \u001b[0mpdist\u001b[0m\u001b[0;34m\u001b[0m\u001b[0;34m\u001b[0m\u001b[0m\n\u001b[0;32m----> 4\u001b[0;31m \u001b[0;32mfrom\u001b[0m \u001b[0mnumba\u001b[0m \u001b[0;32mimport\u001b[0m \u001b[0mjit\u001b[0m\u001b[0;34m\u001b[0m\u001b[0;34m\u001b[0m\u001b[0m\n\u001b[0m\u001b[1;32m      5\u001b[0m \u001b[0;32mimport\u001b[0m \u001b[0msklearn\u001b[0m\u001b[0;34m\u001b[0m\u001b[0;34m\u001b[0m\u001b[0m\n\u001b[1;32m      6\u001b[0m \u001b[0;32mimport\u001b[0m \u001b[0mwarnings\u001b[0m\u001b[0;34m\u001b[0m\u001b[0;34m\u001b[0m\u001b[0m\n",
      "\u001b[0;32m~/.pyenv/versions/3.9.6/lib/python3.9/site-packages/numba/__init__.py\u001b[0m in \u001b[0;36m<module>\u001b[0;34m\u001b[0m\n\u001b[1;32m    196\u001b[0m \u001b[0;34m\u001b[0m\u001b[0m\n\u001b[1;32m    197\u001b[0m \u001b[0m_ensure_llvm\u001b[0m\u001b[0;34m(\u001b[0m\u001b[0;34m)\u001b[0m\u001b[0;34m\u001b[0m\u001b[0;34m\u001b[0m\u001b[0m\n\u001b[0;32m--> 198\u001b[0;31m \u001b[0m_ensure_critical_deps\u001b[0m\u001b[0;34m(\u001b[0m\u001b[0;34m)\u001b[0m\u001b[0;34m\u001b[0m\u001b[0;34m\u001b[0m\u001b[0m\n\u001b[0m\u001b[1;32m    199\u001b[0m \u001b[0;34m\u001b[0m\u001b[0m\n\u001b[1;32m    200\u001b[0m \u001b[0;31m# we know llvmlite is working as the above tests passed, import it now as SVML\u001b[0m\u001b[0;34m\u001b[0m\u001b[0;34m\u001b[0m\u001b[0;34m\u001b[0m\u001b[0m\n",
      "\u001b[0;32m~/.pyenv/versions/3.9.6/lib/python3.9/site-packages/numba/__init__.py\u001b[0m in \u001b[0;36m_ensure_critical_deps\u001b[0;34m()\u001b[0m\n\u001b[1;32m    136\u001b[0m         \u001b[0;32mraise\u001b[0m \u001b[0mImportError\u001b[0m\u001b[0;34m(\u001b[0m\u001b[0;34m\"Numba needs NumPy 1.17 or greater\"\u001b[0m\u001b[0;34m)\u001b[0m\u001b[0;34m\u001b[0m\u001b[0;34m\u001b[0m\u001b[0m\n\u001b[1;32m    137\u001b[0m     \u001b[0;32melif\u001b[0m \u001b[0mnumpy_version\u001b[0m \u001b[0;34m>\u001b[0m \u001b[0;34m(\u001b[0m\u001b[0;36m1\u001b[0m\u001b[0;34m,\u001b[0m \u001b[0;36m20\u001b[0m\u001b[0;34m)\u001b[0m\u001b[0;34m:\u001b[0m\u001b[0;34m\u001b[0m\u001b[0;34m\u001b[0m\u001b[0m\n\u001b[0;32m--> 138\u001b[0;31m         \u001b[0;32mraise\u001b[0m \u001b[0mImportError\u001b[0m\u001b[0;34m(\u001b[0m\u001b[0;34m\"Numba needs NumPy 1.20 or less\"\u001b[0m\u001b[0;34m)\u001b[0m\u001b[0;34m\u001b[0m\u001b[0;34m\u001b[0m\u001b[0m\n\u001b[0m\u001b[1;32m    139\u001b[0m \u001b[0;34m\u001b[0m\u001b[0m\n\u001b[1;32m    140\u001b[0m     \u001b[0;32mtry\u001b[0m\u001b[0;34m:\u001b[0m\u001b[0;34m\u001b[0m\u001b[0;34m\u001b[0m\u001b[0m\n",
      "\u001b[0;31mImportError\u001b[0m: Numba needs NumPy 1.20 or less"
     ]
    }
   ],
   "source": [
    "import shap\n",
    "\n",
    "# Create shap values and plot them\n",
    "X_explain = X_test\n",
    "shap_values = shap.TreeExplainer(est).shap_values(X_explain)\n",
    "shap.summary_plot(shap_values, X_explain)"
   ]
  },
  {
   "cell_type": "code",
   "execution_count": null,
   "metadata": {
    "id": "3ukRcM86Dx2e"
   },
   "outputs": [],
   "source": [
    "# # plot the line, the samples, and the nearest vectors to the plane\n",
    "# xx, yy = np.meshgrid(np.linspace(-5, 5, 50), np.linspace(-5, 5, 50))\n",
    "# Z = iso.decision_function(np.c_[fail_test_y_val, y_pred_outliers])\n",
    "# Z = Z.reshape(xx.shape)\n",
    "\n",
    "# plt.title(\"IsolationForest\")\n",
    "# plt.contourf(xx, yy, Z, cmap=plt.cm.Blues_r)\n",
    "\n",
    "# b1 = plt.scatter(pass_train_data[:, 0], pass_train_data[:, 1], c='white',\n",
    "#                  s=20, edgecolor='k')\n",
    "# b2 = plt.scatter(pass_test_data[:, 0], pass_test_data[:, 1], c='green',\n",
    "#                  s=20, edgecolor='k')\n",
    "# c = plt.scatter(fail_test_data[:, 0], fail_test_data[:, 1], c='red',\n",
    "#                 s=20, edgecolor='k')\n",
    "# plt.axis('tight')\n",
    "# plt.xlim((-5, 5))\n",
    "# plt.ylim((-5, 5))\n",
    "# plt.legend([b1, b2, c],\n",
    "#            [\"training observations\",\n",
    "#             \"new regular observations\", \"new abnormal observations\"],\n",
    "#            loc=\"upper left\")\n",
    "# plt.show()"
   ]
  },
  {
   "cell_type": "code",
   "execution_count": null,
   "metadata": {
    "id": "OrEF9kpYG93O"
   },
   "outputs": [],
   "source": []
  }
 ],
 "metadata": {
  "colab": {
   "authorship_tag": "ABX9TyONCVhiUhA0ZE39mfcZUDcV",
   "collapsed_sections": [],
   "include_colab_link": true,
   "name": "Austin Restaurant Inspections_Modeling",
   "provenance": []
  },
  "kernelspec": {
   "display_name": "3.9.6",
   "language": "python",
   "name": "3.9.6"
  },
  "language_info": {
   "codemirror_mode": {
    "name": "ipython",
    "version": 3
   },
   "file_extension": ".py",
   "mimetype": "text/x-python",
   "name": "python",
   "nbconvert_exporter": "python",
   "pygments_lexer": "ipython3",
   "version": "3.9.6"
  }
 },
 "nbformat": 4,
 "nbformat_minor": 4
}
